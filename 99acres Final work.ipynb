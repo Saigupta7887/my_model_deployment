{
 "cells": [
  {
   "cell_type": "markdown",
   "id": "306b79b3",
   "metadata": {},
   "source": [
    "## Predict :- Monthly Rant"
   ]
  },
  {
   "cell_type": "code",
   "execution_count": 1,
   "id": "013932e1",
   "metadata": {},
   "outputs": [],
   "source": [
    "# Importin Required Libraries\n",
    "import numpy as np\n",
    "import pandas as pd\n",
    "import matplotlib.pyplot as plt\n",
    "%matplotlib inline\n",
    "\n",
    "import seaborn as sns"
   ]
  },
  {
   "cell_type": "code",
   "execution_count": 2,
   "id": "26fb8876",
   "metadata": {
    "scrolled": true
   },
   "outputs": [
    {
     "data": {
      "text/html": [
       "<div>\n",
       "<style scoped>\n",
       "    .dataframe tbody tr th:only-of-type {\n",
       "        vertical-align: middle;\n",
       "    }\n",
       "\n",
       "    .dataframe tbody tr th {\n",
       "        vertical-align: top;\n",
       "    }\n",
       "\n",
       "    .dataframe thead th {\n",
       "        text-align: right;\n",
       "    }\n",
       "</style>\n",
       "<table border=\"1\" class=\"dataframe\">\n",
       "  <thead>\n",
       "    <tr style=\"text-align: right;\">\n",
       "      <th></th>\n",
       "      <th>city</th>\n",
       "      <th>monthly_rant</th>\n",
       "      <th>BHKS</th>\n",
       "      <th>Baths</th>\n",
       "      <th>sqft_per_inch</th>\n",
       "      <th>build_up_area</th>\n",
       "      <th>Type_of_property</th>\n",
       "      <th>location_of_the_property</th>\n",
       "      <th>deposit</th>\n",
       "    </tr>\n",
       "  </thead>\n",
       "  <tbody>\n",
       "    <tr>\n",
       "      <th>0</th>\n",
       "      <td>mumbai</td>\n",
       "      <td>17500.0</td>\n",
       "      <td>1.0</td>\n",
       "      <td>2 Baths</td>\n",
       "      <td>470</td>\n",
       "      <td>Carpet Area</td>\n",
       "      <td>Residential</td>\n",
       "      <td>Kolshet Road</td>\n",
       "      <td>75000.0</td>\n",
       "    </tr>\n",
       "    <tr>\n",
       "      <th>1</th>\n",
       "      <td>mumbai</td>\n",
       "      <td>75000.0</td>\n",
       "      <td>3.0</td>\n",
       "      <td>3 Baths</td>\n",
       "      <td>1800</td>\n",
       "      <td>Super built-up Area</td>\n",
       "      <td>Residential</td>\n",
       "      <td>Sector 21 Nerul</td>\n",
       "      <td>400000.0</td>\n",
       "    </tr>\n",
       "    <tr>\n",
       "      <th>2</th>\n",
       "      <td>mumbai</td>\n",
       "      <td>60000.0</td>\n",
       "      <td>2.0</td>\n",
       "      <td>2 Baths</td>\n",
       "      <td>950</td>\n",
       "      <td>Super built-up Area</td>\n",
       "      <td>Residential</td>\n",
       "      <td>Wadala</td>\n",
       "      <td>200000.0</td>\n",
       "    </tr>\n",
       "    <tr>\n",
       "      <th>3</th>\n",
       "      <td>mumbai</td>\n",
       "      <td>52000.0</td>\n",
       "      <td>3.0</td>\n",
       "      <td>3 Baths</td>\n",
       "      <td>1300</td>\n",
       "      <td>Carpet Area</td>\n",
       "      <td>Residential</td>\n",
       "      <td>Hiranandani Estate</td>\n",
       "      <td>300000.0</td>\n",
       "    </tr>\n",
       "    <tr>\n",
       "      <th>4</th>\n",
       "      <td>mumbai</td>\n",
       "      <td>30000.0</td>\n",
       "      <td>1.0</td>\n",
       "      <td>1 Bath</td>\n",
       "      <td>550</td>\n",
       "      <td>Built-up Area</td>\n",
       "      <td>Residential</td>\n",
       "      <td>Kanjurmarg (East)</td>\n",
       "      <td>150000.0</td>\n",
       "    </tr>\n",
       "    <tr>\n",
       "      <th>...</th>\n",
       "      <td>...</td>\n",
       "      <td>...</td>\n",
       "      <td>...</td>\n",
       "      <td>...</td>\n",
       "      <td>...</td>\n",
       "      <td>...</td>\n",
       "      <td>...</td>\n",
       "      <td>...</td>\n",
       "      <td>...</td>\n",
       "    </tr>\n",
       "    <tr>\n",
       "      <th>165416</th>\n",
       "      <td>Trivandraum</td>\n",
       "      <td>10000.0</td>\n",
       "      <td>2.0</td>\n",
       "      <td>3 Baths</td>\n",
       "      <td>1200</td>\n",
       "      <td>Built-up Area</td>\n",
       "      <td>Independent</td>\n",
       "      <td>Anayara</td>\n",
       "      <td>25000.0</td>\n",
       "    </tr>\n",
       "    <tr>\n",
       "      <th>165417</th>\n",
       "      <td>Trivandraum</td>\n",
       "      <td>21000.0</td>\n",
       "      <td>2.0</td>\n",
       "      <td>2 Baths</td>\n",
       "      <td>1155</td>\n",
       "      <td>Carpet Area</td>\n",
       "      <td>Residential</td>\n",
       "      <td>Kazhakkoottam</td>\n",
       "      <td>50000.0</td>\n",
       "    </tr>\n",
       "    <tr>\n",
       "      <th>165418</th>\n",
       "      <td>Trivandraum</td>\n",
       "      <td>10000.0</td>\n",
       "      <td>2.0</td>\n",
       "      <td>2 Baths</td>\n",
       "      <td>861</td>\n",
       "      <td>Built-up Area</td>\n",
       "      <td>Residential</td>\n",
       "      <td>Vattiyoorkkav</td>\n",
       "      <td>30000.0</td>\n",
       "    </tr>\n",
       "    <tr>\n",
       "      <th>165419</th>\n",
       "      <td>Trivandraum</td>\n",
       "      <td>33000.0</td>\n",
       "      <td>4.0</td>\n",
       "      <td>5 Baths</td>\n",
       "      <td>3200</td>\n",
       "      <td>Plot Area</td>\n",
       "      <td>Independent</td>\n",
       "      <td>Pattom</td>\n",
       "      <td>150000.0</td>\n",
       "    </tr>\n",
       "    <tr>\n",
       "      <th>165420</th>\n",
       "      <td>Trivandraum</td>\n",
       "      <td>8000.0</td>\n",
       "      <td>4.0</td>\n",
       "      <td>5 Baths</td>\n",
       "      <td>2178</td>\n",
       "      <td>Plot Area</td>\n",
       "      <td>Independent</td>\n",
       "      <td>Kallampally</td>\n",
       "      <td>24000.0</td>\n",
       "    </tr>\n",
       "  </tbody>\n",
       "</table>\n",
       "<p>165421 rows × 9 columns</p>\n",
       "</div>"
      ],
      "text/plain": [
       "               city  monthly_rant  BHKS    Baths  sqft_per_inch  \\\n",
       "0            mumbai       17500.0   1.0  2 Baths            470   \n",
       "1            mumbai       75000.0   3.0  3 Baths           1800   \n",
       "2            mumbai       60000.0   2.0  2 Baths            950   \n",
       "3            mumbai       52000.0   3.0  3 Baths           1300   \n",
       "4            mumbai       30000.0   1.0   1 Bath            550   \n",
       "...             ...           ...   ...      ...            ...   \n",
       "165416  Trivandraum       10000.0   2.0  3 Baths           1200   \n",
       "165417  Trivandraum       21000.0   2.0  2 Baths           1155   \n",
       "165418  Trivandraum       10000.0   2.0  2 Baths            861   \n",
       "165419  Trivandraum       33000.0   4.0  5 Baths           3200   \n",
       "165420  Trivandraum        8000.0   4.0  5 Baths           2178   \n",
       "\n",
       "              build_up_area Type_of_property location_of_the_property  \\\n",
       "0               Carpet Area      Residential             Kolshet Road   \n",
       "1       Super built-up Area      Residential          Sector 21 Nerul   \n",
       "2       Super built-up Area      Residential                   Wadala   \n",
       "3               Carpet Area      Residential       Hiranandani Estate   \n",
       "4             Built-up Area      Residential        Kanjurmarg (East)   \n",
       "...                     ...              ...                      ...   \n",
       "165416        Built-up Area      Independent                  Anayara   \n",
       "165417          Carpet Area      Residential            Kazhakkoottam   \n",
       "165418        Built-up Area      Residential            Vattiyoorkkav   \n",
       "165419            Plot Area      Independent                   Pattom   \n",
       "165420            Plot Area      Independent              Kallampally   \n",
       "\n",
       "         deposit  \n",
       "0        75000.0  \n",
       "1       400000.0  \n",
       "2       200000.0  \n",
       "3       300000.0  \n",
       "4       150000.0  \n",
       "...          ...  \n",
       "165416   25000.0  \n",
       "165417   50000.0  \n",
       "165418   30000.0  \n",
       "165419  150000.0  \n",
       "165420   24000.0  \n",
       "\n",
       "[165421 rows x 9 columns]"
      ]
     },
     "execution_count": 2,
     "metadata": {},
     "output_type": "execute_result"
    }
   ],
   "source": [
    "# Importing the data set\n",
    "df = pd.read_csv('99acres_cleaned.csv')\n",
    "df"
   ]
  },
  {
   "cell_type": "code",
   "execution_count": 3,
   "id": "dbdf01e9",
   "metadata": {},
   "outputs": [
    {
     "name": "stdout",
     "output_type": "stream",
     "text": [
      "<class 'pandas.core.frame.DataFrame'>\n",
      "RangeIndex: 165421 entries, 0 to 165420\n",
      "Data columns (total 9 columns):\n",
      " #   Column                    Non-Null Count   Dtype  \n",
      "---  ------                    --------------   -----  \n",
      " 0   city                      165421 non-null  object \n",
      " 1   monthly_rant              165202 non-null  float64\n",
      " 2   BHKS                      164872 non-null  float64\n",
      " 3   Baths                     164872 non-null  object \n",
      " 4   sqft_per_inch             165421 non-null  int64  \n",
      " 5   build_up_area             165421 non-null  object \n",
      " 6   Type_of_property          165421 non-null  object \n",
      " 7   location_of_the_property  165420 non-null  object \n",
      " 8   deposit                   146964 non-null  float64\n",
      "dtypes: float64(3), int64(1), object(5)\n",
      "memory usage: 11.4+ MB\n"
     ]
    }
   ],
   "source": [
    "df.info()"
   ]
  },
  {
   "cell_type": "markdown",
   "id": "3f29cf58",
   "metadata": {},
   "source": [
    "## Column Baths"
   ]
  },
  {
   "cell_type": "code",
   "execution_count": 4,
   "id": "8dbf8233",
   "metadata": {},
   "outputs": [],
   "source": [
    "# Split Bath Column and keep only usefull information\n",
    "df['Baths'] = df['Baths'].str.split(\" \", n = 2, expand = True)[0]"
   ]
  },
  {
   "cell_type": "code",
   "execution_count": 5,
   "id": "5c162bc8",
   "metadata": {},
   "outputs": [
    {
     "data": {
      "text/html": [
       "<div>\n",
       "<style scoped>\n",
       "    .dataframe tbody tr th:only-of-type {\n",
       "        vertical-align: middle;\n",
       "    }\n",
       "\n",
       "    .dataframe tbody tr th {\n",
       "        vertical-align: top;\n",
       "    }\n",
       "\n",
       "    .dataframe thead th {\n",
       "        text-align: right;\n",
       "    }\n",
       "</style>\n",
       "<table border=\"1\" class=\"dataframe\">\n",
       "  <thead>\n",
       "    <tr style=\"text-align: right;\">\n",
       "      <th></th>\n",
       "      <th>city</th>\n",
       "      <th>monthly_rant</th>\n",
       "      <th>BHKS</th>\n",
       "      <th>Baths</th>\n",
       "      <th>sqft_per_inch</th>\n",
       "      <th>build_up_area</th>\n",
       "      <th>Type_of_property</th>\n",
       "      <th>location_of_the_property</th>\n",
       "      <th>deposit</th>\n",
       "    </tr>\n",
       "  </thead>\n",
       "  <tbody>\n",
       "    <tr>\n",
       "      <th>0</th>\n",
       "      <td>mumbai</td>\n",
       "      <td>17500.0</td>\n",
       "      <td>1.0</td>\n",
       "      <td>2</td>\n",
       "      <td>470</td>\n",
       "      <td>Carpet Area</td>\n",
       "      <td>Residential</td>\n",
       "      <td>Kolshet Road</td>\n",
       "      <td>75000.0</td>\n",
       "    </tr>\n",
       "    <tr>\n",
       "      <th>1</th>\n",
       "      <td>mumbai</td>\n",
       "      <td>75000.0</td>\n",
       "      <td>3.0</td>\n",
       "      <td>3</td>\n",
       "      <td>1800</td>\n",
       "      <td>Super built-up Area</td>\n",
       "      <td>Residential</td>\n",
       "      <td>Sector 21 Nerul</td>\n",
       "      <td>400000.0</td>\n",
       "    </tr>\n",
       "  </tbody>\n",
       "</table>\n",
       "</div>"
      ],
      "text/plain": [
       "     city  monthly_rant  BHKS Baths  sqft_per_inch        build_up_area  \\\n",
       "0  mumbai       17500.0   1.0     2            470          Carpet Area   \n",
       "1  mumbai       75000.0   3.0     3           1800  Super built-up Area   \n",
       "\n",
       "  Type_of_property location_of_the_property   deposit  \n",
       "0      Residential             Kolshet Road   75000.0  \n",
       "1      Residential          Sector 21 Nerul  400000.0  "
      ]
     },
     "execution_count": 5,
     "metadata": {},
     "output_type": "execute_result"
    }
   ],
   "source": [
    "df.head(2)"
   ]
  },
  {
   "cell_type": "code",
   "execution_count": 6,
   "id": "995a957f",
   "metadata": {},
   "outputs": [
    {
     "data": {
      "text/plain": [
       "array(['2', '3', '1', '5', '4', '10', '6', 'RK\\n1', '7', nan, 'Baths',\n",
       "       'Bath', 'RK', '9', '15', '76', '8', '22', '12', 'BHK', '20', '16',\n",
       "       '17', '25', '13', '11', '18', '30', '24', '14', '26', '23', '59',\n",
       "       '48', '40', '98', '19', '35', '28', '21', '37', '27', '50'],\n",
       "      dtype=object)"
      ]
     },
     "execution_count": 6,
     "metadata": {},
     "output_type": "execute_result"
    }
   ],
   "source": [
    "df.Baths.unique()"
   ]
  },
  {
   "cell_type": "code",
   "execution_count": 7,
   "id": "632ba417",
   "metadata": {},
   "outputs": [],
   "source": [
    "# This features has highly correlated to BHKs thats why i droped\n",
    "df.drop('Baths',axis=1,inplace=True)"
   ]
  },
  {
   "cell_type": "markdown",
   "id": "560d6bc1",
   "metadata": {},
   "source": [
    "## Column Deposite"
   ]
  },
  {
   "cell_type": "code",
   "execution_count": 8,
   "id": "55a073db",
   "metadata": {},
   "outputs": [],
   "source": [
    "#nw=df['Deposite'].str.split(\" m\", n = 3, expand = True)\n",
    "#df['deposit']=nw[0]\n",
    "#df['deposit']=pd.to_numeric(df['deposit'], errors='coerce')\n",
    "\n",
    "# Multiply feature monthly_rant to deposite where deposite value 0 to 12\n",
    "#for col,row in df.iterrows():\n",
    " #   if (row['deposit']<12 and row['deposit'] >=0 ):\n",
    "#        df.loc[col,\"deposit\"]= row[\"deposit\"] * row[\"monthly_rant\"]\n",
    "#    else:\n",
    " #       df.loc[col,\"deposit\"]= row[\"deposit\"]"
   ]
  },
  {
   "cell_type": "code",
   "execution_count": 9,
   "id": "5f91df64",
   "metadata": {},
   "outputs": [
    {
     "data": {
      "text/plain": [
       "city                            0\n",
       "monthly_rant                  219\n",
       "BHKS                          549\n",
       "sqft_per_inch                   0\n",
       "build_up_area                   0\n",
       "Type_of_property                0\n",
       "location_of_the_property        1\n",
       "deposit                     18457\n",
       "dtype: int64"
      ]
     },
     "execution_count": 9,
     "metadata": {},
     "output_type": "execute_result"
    }
   ],
   "source": [
    "df.isnull().sum()"
   ]
  },
  {
   "cell_type": "markdown",
   "id": "5b24017f",
   "metadata": {},
   "source": [
    "#### Capturing Missing Value With New Features"
   ]
  },
  {
   "cell_type": "code",
   "execution_count": 10,
   "id": "6aba4724",
   "metadata": {},
   "outputs": [],
   "source": [
    "# I want to see when i will use diff-diff imputation technique what value is changed in missing rows\n",
    "df['deposit_nan']=np.where(df['deposit'].isnull(),1,0)"
   ]
  },
  {
   "cell_type": "code",
   "execution_count": 11,
   "id": "7b545315",
   "metadata": {},
   "outputs": [
    {
     "data": {
      "text/html": [
       "<div>\n",
       "<style scoped>\n",
       "    .dataframe tbody tr th:only-of-type {\n",
       "        vertical-align: middle;\n",
       "    }\n",
       "\n",
       "    .dataframe tbody tr th {\n",
       "        vertical-align: top;\n",
       "    }\n",
       "\n",
       "    .dataframe thead th {\n",
       "        text-align: right;\n",
       "    }\n",
       "</style>\n",
       "<table border=\"1\" class=\"dataframe\">\n",
       "  <thead>\n",
       "    <tr style=\"text-align: right;\">\n",
       "      <th></th>\n",
       "      <th>city</th>\n",
       "      <th>monthly_rant</th>\n",
       "      <th>BHKS</th>\n",
       "      <th>sqft_per_inch</th>\n",
       "      <th>build_up_area</th>\n",
       "      <th>Type_of_property</th>\n",
       "      <th>location_of_the_property</th>\n",
       "      <th>deposit</th>\n",
       "      <th>deposit_nan</th>\n",
       "    </tr>\n",
       "  </thead>\n",
       "  <tbody>\n",
       "    <tr>\n",
       "      <th>0</th>\n",
       "      <td>mumbai</td>\n",
       "      <td>17500.0</td>\n",
       "      <td>1.0</td>\n",
       "      <td>470</td>\n",
       "      <td>Carpet Area</td>\n",
       "      <td>Residential</td>\n",
       "      <td>Kolshet Road</td>\n",
       "      <td>75000.0</td>\n",
       "      <td>0</td>\n",
       "    </tr>\n",
       "    <tr>\n",
       "      <th>1</th>\n",
       "      <td>mumbai</td>\n",
       "      <td>75000.0</td>\n",
       "      <td>3.0</td>\n",
       "      <td>1800</td>\n",
       "      <td>Super built-up Area</td>\n",
       "      <td>Residential</td>\n",
       "      <td>Sector 21 Nerul</td>\n",
       "      <td>400000.0</td>\n",
       "      <td>0</td>\n",
       "    </tr>\n",
       "  </tbody>\n",
       "</table>\n",
       "</div>"
      ],
      "text/plain": [
       "     city  monthly_rant  BHKS  sqft_per_inch        build_up_area  \\\n",
       "0  mumbai       17500.0   1.0            470          Carpet Area   \n",
       "1  mumbai       75000.0   3.0           1800  Super built-up Area   \n",
       "\n",
       "  Type_of_property location_of_the_property   deposit  deposit_nan  \n",
       "0      Residential             Kolshet Road   75000.0            0  \n",
       "1      Residential          Sector 21 Nerul  400000.0            0  "
      ]
     },
     "execution_count": 11,
     "metadata": {},
     "output_type": "execute_result"
    }
   ],
   "source": [
    "df.head(2)"
   ]
  },
  {
   "cell_type": "code",
   "execution_count": 12,
   "id": "69c7be66",
   "metadata": {},
   "outputs": [],
   "source": [
    "# Fill With median\n",
    "#df['deposit'].fillna(df.deposit.median(),inplace=True)"
   ]
  },
  {
   "cell_type": "code",
   "execution_count": 13,
   "id": "1061d435",
   "metadata": {
    "scrolled": true
   },
   "outputs": [
    {
     "data": {
      "text/html": [
       "<div>\n",
       "<style scoped>\n",
       "    .dataframe tbody tr th:only-of-type {\n",
       "        vertical-align: middle;\n",
       "    }\n",
       "\n",
       "    .dataframe tbody tr th {\n",
       "        vertical-align: top;\n",
       "    }\n",
       "\n",
       "    .dataframe thead th {\n",
       "        text-align: right;\n",
       "    }\n",
       "</style>\n",
       "<table border=\"1\" class=\"dataframe\">\n",
       "  <thead>\n",
       "    <tr style=\"text-align: right;\">\n",
       "      <th></th>\n",
       "      <th>city</th>\n",
       "      <th>monthly_rant</th>\n",
       "      <th>BHKS</th>\n",
       "      <th>sqft_per_inch</th>\n",
       "      <th>build_up_area</th>\n",
       "      <th>Type_of_property</th>\n",
       "      <th>location_of_the_property</th>\n",
       "      <th>deposit</th>\n",
       "      <th>deposit_nan</th>\n",
       "    </tr>\n",
       "  </thead>\n",
       "  <tbody>\n",
       "    <tr>\n",
       "      <th>0</th>\n",
       "      <td>mumbai</td>\n",
       "      <td>17500.0</td>\n",
       "      <td>1.0</td>\n",
       "      <td>470</td>\n",
       "      <td>Carpet Area</td>\n",
       "      <td>Residential</td>\n",
       "      <td>Kolshet Road</td>\n",
       "      <td>75000.0</td>\n",
       "      <td>0</td>\n",
       "    </tr>\n",
       "    <tr>\n",
       "      <th>1</th>\n",
       "      <td>mumbai</td>\n",
       "      <td>75000.0</td>\n",
       "      <td>3.0</td>\n",
       "      <td>1800</td>\n",
       "      <td>Super built-up Area</td>\n",
       "      <td>Residential</td>\n",
       "      <td>Sector 21 Nerul</td>\n",
       "      <td>400000.0</td>\n",
       "      <td>0</td>\n",
       "    </tr>\n",
       "    <tr>\n",
       "      <th>2</th>\n",
       "      <td>mumbai</td>\n",
       "      <td>60000.0</td>\n",
       "      <td>2.0</td>\n",
       "      <td>950</td>\n",
       "      <td>Super built-up Area</td>\n",
       "      <td>Residential</td>\n",
       "      <td>Wadala</td>\n",
       "      <td>200000.0</td>\n",
       "      <td>0</td>\n",
       "    </tr>\n",
       "    <tr>\n",
       "      <th>3</th>\n",
       "      <td>mumbai</td>\n",
       "      <td>52000.0</td>\n",
       "      <td>3.0</td>\n",
       "      <td>1300</td>\n",
       "      <td>Carpet Area</td>\n",
       "      <td>Residential</td>\n",
       "      <td>Hiranandani Estate</td>\n",
       "      <td>300000.0</td>\n",
       "      <td>0</td>\n",
       "    </tr>\n",
       "    <tr>\n",
       "      <th>4</th>\n",
       "      <td>mumbai</td>\n",
       "      <td>30000.0</td>\n",
       "      <td>1.0</td>\n",
       "      <td>550</td>\n",
       "      <td>Built-up Area</td>\n",
       "      <td>Residential</td>\n",
       "      <td>Kanjurmarg (East)</td>\n",
       "      <td>150000.0</td>\n",
       "      <td>0</td>\n",
       "    </tr>\n",
       "    <tr>\n",
       "      <th>5</th>\n",
       "      <td>mumbai</td>\n",
       "      <td>42000.0</td>\n",
       "      <td>2.0</td>\n",
       "      <td>650</td>\n",
       "      <td>Built-up Area</td>\n",
       "      <td>Residential</td>\n",
       "      <td>Lower Parel</td>\n",
       "      <td>NaN</td>\n",
       "      <td>1</td>\n",
       "    </tr>\n",
       "    <tr>\n",
       "      <th>6</th>\n",
       "      <td>mumbai</td>\n",
       "      <td>27000.0</td>\n",
       "      <td>1.0</td>\n",
       "      <td>510</td>\n",
       "      <td>Carpet Area</td>\n",
       "      <td>Residential</td>\n",
       "      <td>Kanjurmarg (East)</td>\n",
       "      <td>100000.0</td>\n",
       "      <td>0</td>\n",
       "    </tr>\n",
       "    <tr>\n",
       "      <th>7</th>\n",
       "      <td>mumbai</td>\n",
       "      <td>53000.0</td>\n",
       "      <td>2.0</td>\n",
       "      <td>1510</td>\n",
       "      <td>Super built-up Area</td>\n",
       "      <td>Residential</td>\n",
       "      <td>Pirojshanagar</td>\n",
       "      <td>300000.0</td>\n",
       "      <td>0</td>\n",
       "    </tr>\n",
       "    <tr>\n",
       "      <th>8</th>\n",
       "      <td>mumbai</td>\n",
       "      <td>175000.0</td>\n",
       "      <td>3.0</td>\n",
       "      <td>1250</td>\n",
       "      <td>Carpet Area</td>\n",
       "      <td>Residential</td>\n",
       "      <td>Bandra (East)</td>\n",
       "      <td>500000.0</td>\n",
       "      <td>0</td>\n",
       "    </tr>\n",
       "    <tr>\n",
       "      <th>9</th>\n",
       "      <td>mumbai</td>\n",
       "      <td>200000.0</td>\n",
       "      <td>3.0</td>\n",
       "      <td>2000</td>\n",
       "      <td>Built-up Area</td>\n",
       "      <td>Residential</td>\n",
       "      <td>Grant Road West</td>\n",
       "      <td>800000.0</td>\n",
       "      <td>0</td>\n",
       "    </tr>\n",
       "  </tbody>\n",
       "</table>\n",
       "</div>"
      ],
      "text/plain": [
       "     city  monthly_rant  BHKS  sqft_per_inch        build_up_area  \\\n",
       "0  mumbai       17500.0   1.0            470          Carpet Area   \n",
       "1  mumbai       75000.0   3.0           1800  Super built-up Area   \n",
       "2  mumbai       60000.0   2.0            950  Super built-up Area   \n",
       "3  mumbai       52000.0   3.0           1300          Carpet Area   \n",
       "4  mumbai       30000.0   1.0            550        Built-up Area   \n",
       "5  mumbai       42000.0   2.0            650        Built-up Area   \n",
       "6  mumbai       27000.0   1.0            510          Carpet Area   \n",
       "7  mumbai       53000.0   2.0           1510  Super built-up Area   \n",
       "8  mumbai      175000.0   3.0           1250          Carpet Area   \n",
       "9  mumbai      200000.0   3.0           2000        Built-up Area   \n",
       "\n",
       "  Type_of_property location_of_the_property   deposit  deposit_nan  \n",
       "0      Residential             Kolshet Road   75000.0            0  \n",
       "1      Residential          Sector 21 Nerul  400000.0            0  \n",
       "2      Residential                   Wadala  200000.0            0  \n",
       "3      Residential       Hiranandani Estate  300000.0            0  \n",
       "4      Residential        Kanjurmarg (East)  150000.0            0  \n",
       "5      Residential              Lower Parel       NaN            1  \n",
       "6      Residential        Kanjurmarg (East)  100000.0            0  \n",
       "7      Residential            Pirojshanagar  300000.0            0  \n",
       "8      Residential            Bandra (East)  500000.0            0  \n",
       "9      Residential          Grant Road West  800000.0            0  "
      ]
     },
     "execution_count": 13,
     "metadata": {},
     "output_type": "execute_result"
    }
   ],
   "source": [
    "df.head(10)"
   ]
  },
  {
   "cell_type": "markdown",
   "id": "33e8bd0c",
   "metadata": {},
   "source": [
    "## End of Distribution imputation"
   ]
  },
  {
   "cell_type": "code",
   "execution_count": 14,
   "id": "06602aff",
   "metadata": {
    "scrolled": true
   },
   "outputs": [],
   "source": [
    "#df.deposit.hist()"
   ]
  },
  {
   "cell_type": "code",
   "execution_count": 15,
   "id": "862999a6",
   "metadata": {},
   "outputs": [],
   "source": [
    "extreme=df.deposit.mean()+3*df.deposit.std()"
   ]
  },
  {
   "cell_type": "code",
   "execution_count": 16,
   "id": "f18b8d2e",
   "metadata": {},
   "outputs": [],
   "source": [
    "#sns.boxplot('deposit',data=df)"
   ]
  },
  {
   "cell_type": "code",
   "execution_count": 17,
   "id": "6ad990c3",
   "metadata": {},
   "outputs": [],
   "source": [
    "#def impute_nan(df,variable,median,extreme):\n",
    "#    df[variable+\"_end_distribution\"]=df[variable].fillna(extreme)\n",
    " #   df[variable].fillna(median,inplace=True)"
   ]
  },
  {
   "cell_type": "code",
   "execution_count": 18,
   "id": "255349be",
   "metadata": {},
   "outputs": [],
   "source": [
    "#impute_nan(df,'deposit',df.deposit.median(),extreme)"
   ]
  },
  {
   "cell_type": "code",
   "execution_count": 19,
   "id": "4cf16c64",
   "metadata": {},
   "outputs": [
    {
     "data": {
      "text/html": [
       "<div>\n",
       "<style scoped>\n",
       "    .dataframe tbody tr th:only-of-type {\n",
       "        vertical-align: middle;\n",
       "    }\n",
       "\n",
       "    .dataframe tbody tr th {\n",
       "        vertical-align: top;\n",
       "    }\n",
       "\n",
       "    .dataframe thead th {\n",
       "        text-align: right;\n",
       "    }\n",
       "</style>\n",
       "<table border=\"1\" class=\"dataframe\">\n",
       "  <thead>\n",
       "    <tr style=\"text-align: right;\">\n",
       "      <th></th>\n",
       "      <th>city</th>\n",
       "      <th>monthly_rant</th>\n",
       "      <th>BHKS</th>\n",
       "      <th>sqft_per_inch</th>\n",
       "      <th>build_up_area</th>\n",
       "      <th>Type_of_property</th>\n",
       "      <th>location_of_the_property</th>\n",
       "      <th>deposit</th>\n",
       "      <th>deposit_nan</th>\n",
       "    </tr>\n",
       "  </thead>\n",
       "  <tbody>\n",
       "    <tr>\n",
       "      <th>0</th>\n",
       "      <td>mumbai</td>\n",
       "      <td>17500.0</td>\n",
       "      <td>1.0</td>\n",
       "      <td>470</td>\n",
       "      <td>Carpet Area</td>\n",
       "      <td>Residential</td>\n",
       "      <td>Kolshet Road</td>\n",
       "      <td>75000.0</td>\n",
       "      <td>0</td>\n",
       "    </tr>\n",
       "    <tr>\n",
       "      <th>1</th>\n",
       "      <td>mumbai</td>\n",
       "      <td>75000.0</td>\n",
       "      <td>3.0</td>\n",
       "      <td>1800</td>\n",
       "      <td>Super built-up Area</td>\n",
       "      <td>Residential</td>\n",
       "      <td>Sector 21 Nerul</td>\n",
       "      <td>400000.0</td>\n",
       "      <td>0</td>\n",
       "    </tr>\n",
       "  </tbody>\n",
       "</table>\n",
       "</div>"
      ],
      "text/plain": [
       "     city  monthly_rant  BHKS  sqft_per_inch        build_up_area  \\\n",
       "0  mumbai       17500.0   1.0            470          Carpet Area   \n",
       "1  mumbai       75000.0   3.0           1800  Super built-up Area   \n",
       "\n",
       "  Type_of_property location_of_the_property   deposit  deposit_nan  \n",
       "0      Residential             Kolshet Road   75000.0            0  \n",
       "1      Residential          Sector 21 Nerul  400000.0            0  "
      ]
     },
     "execution_count": 19,
     "metadata": {},
     "output_type": "execute_result"
    }
   ],
   "source": [
    "df.head(2)"
   ]
  },
  {
   "cell_type": "code",
   "execution_count": 20,
   "id": "09ab30f6",
   "metadata": {},
   "outputs": [],
   "source": [
    "#df.deposit_end_distribution.hist()"
   ]
  },
  {
   "cell_type": "code",
   "execution_count": 21,
   "id": "6ec4eff4",
   "metadata": {},
   "outputs": [
    {
     "data": {
      "text/plain": [
       "city                        0.000000\n",
       "monthly_rant                0.001324\n",
       "BHKS                        0.003319\n",
       "sqft_per_inch               0.000000\n",
       "build_up_area               0.000000\n",
       "Type_of_property            0.000000\n",
       "location_of_the_property    0.000006\n",
       "deposit                     0.111576\n",
       "deposit_nan                 0.000000\n",
       "dtype: float64"
      ]
     },
     "execution_count": 21,
     "metadata": {},
     "output_type": "execute_result"
    }
   ],
   "source": [
    "df.isnull().mean()"
   ]
  },
  {
   "cell_type": "markdown",
   "id": "e9712bfd",
   "metadata": {},
   "source": [
    "## Column Build_up_Area"
   ]
  },
  {
   "cell_type": "code",
   "execution_count": 22,
   "id": "06df8a9e",
   "metadata": {},
   "outputs": [
    {
     "data": {
      "text/plain": [
       "array(['Carpet Area', 'Super built-up Area', 'Built-up Area', 'Plot Area'],\n",
       "      dtype=object)"
      ]
     },
     "execution_count": 22,
     "metadata": {},
     "output_type": "execute_result"
    }
   ],
   "source": [
    "# Checking the unique values to deside best encoding technique\n",
    "df.build_up_area.unique()"
   ]
  },
  {
   "cell_type": "code",
   "execution_count": 23,
   "id": "e0b4164e",
   "metadata": {},
   "outputs": [],
   "source": [
    "# only four category present so i encode with get_dummies\n",
    "df1 = pd.get_dummies(df.build_up_area, drop_first=True)"
   ]
  },
  {
   "cell_type": "code",
   "execution_count": 24,
   "id": "470015ce",
   "metadata": {},
   "outputs": [],
   "source": [
    "df = pd.merge(df,df1,left_index=True, right_index=True)"
   ]
  },
  {
   "cell_type": "code",
   "execution_count": 25,
   "id": "9d2645d5",
   "metadata": {},
   "outputs": [],
   "source": [
    "df.drop(['build_up_area','deposit_nan'], axis=1, inplace=True)"
   ]
  },
  {
   "cell_type": "code",
   "execution_count": 26,
   "id": "d5c190a1",
   "metadata": {},
   "outputs": [
    {
     "data": {
      "text/html": [
       "<div>\n",
       "<style scoped>\n",
       "    .dataframe tbody tr th:only-of-type {\n",
       "        vertical-align: middle;\n",
       "    }\n",
       "\n",
       "    .dataframe tbody tr th {\n",
       "        vertical-align: top;\n",
       "    }\n",
       "\n",
       "    .dataframe thead th {\n",
       "        text-align: right;\n",
       "    }\n",
       "</style>\n",
       "<table border=\"1\" class=\"dataframe\">\n",
       "  <thead>\n",
       "    <tr style=\"text-align: right;\">\n",
       "      <th></th>\n",
       "      <th>city</th>\n",
       "      <th>monthly_rant</th>\n",
       "      <th>BHKS</th>\n",
       "      <th>sqft_per_inch</th>\n",
       "      <th>Type_of_property</th>\n",
       "      <th>location_of_the_property</th>\n",
       "      <th>deposit</th>\n",
       "      <th>Carpet Area</th>\n",
       "      <th>Plot Area</th>\n",
       "      <th>Super built-up Area</th>\n",
       "    </tr>\n",
       "  </thead>\n",
       "  <tbody>\n",
       "    <tr>\n",
       "      <th>0</th>\n",
       "      <td>mumbai</td>\n",
       "      <td>17500.0</td>\n",
       "      <td>1.0</td>\n",
       "      <td>470</td>\n",
       "      <td>Residential</td>\n",
       "      <td>Kolshet Road</td>\n",
       "      <td>75000.0</td>\n",
       "      <td>1</td>\n",
       "      <td>0</td>\n",
       "      <td>0</td>\n",
       "    </tr>\n",
       "    <tr>\n",
       "      <th>1</th>\n",
       "      <td>mumbai</td>\n",
       "      <td>75000.0</td>\n",
       "      <td>3.0</td>\n",
       "      <td>1800</td>\n",
       "      <td>Residential</td>\n",
       "      <td>Sector 21 Nerul</td>\n",
       "      <td>400000.0</td>\n",
       "      <td>0</td>\n",
       "      <td>0</td>\n",
       "      <td>1</td>\n",
       "    </tr>\n",
       "    <tr>\n",
       "      <th>2</th>\n",
       "      <td>mumbai</td>\n",
       "      <td>60000.0</td>\n",
       "      <td>2.0</td>\n",
       "      <td>950</td>\n",
       "      <td>Residential</td>\n",
       "      <td>Wadala</td>\n",
       "      <td>200000.0</td>\n",
       "      <td>0</td>\n",
       "      <td>0</td>\n",
       "      <td>1</td>\n",
       "    </tr>\n",
       "    <tr>\n",
       "      <th>3</th>\n",
       "      <td>mumbai</td>\n",
       "      <td>52000.0</td>\n",
       "      <td>3.0</td>\n",
       "      <td>1300</td>\n",
       "      <td>Residential</td>\n",
       "      <td>Hiranandani Estate</td>\n",
       "      <td>300000.0</td>\n",
       "      <td>1</td>\n",
       "      <td>0</td>\n",
       "      <td>0</td>\n",
       "    </tr>\n",
       "    <tr>\n",
       "      <th>4</th>\n",
       "      <td>mumbai</td>\n",
       "      <td>30000.0</td>\n",
       "      <td>1.0</td>\n",
       "      <td>550</td>\n",
       "      <td>Residential</td>\n",
       "      <td>Kanjurmarg (East)</td>\n",
       "      <td>150000.0</td>\n",
       "      <td>0</td>\n",
       "      <td>0</td>\n",
       "      <td>0</td>\n",
       "    </tr>\n",
       "    <tr>\n",
       "      <th>5</th>\n",
       "      <td>mumbai</td>\n",
       "      <td>42000.0</td>\n",
       "      <td>2.0</td>\n",
       "      <td>650</td>\n",
       "      <td>Residential</td>\n",
       "      <td>Lower Parel</td>\n",
       "      <td>NaN</td>\n",
       "      <td>0</td>\n",
       "      <td>0</td>\n",
       "      <td>0</td>\n",
       "    </tr>\n",
       "    <tr>\n",
       "      <th>6</th>\n",
       "      <td>mumbai</td>\n",
       "      <td>27000.0</td>\n",
       "      <td>1.0</td>\n",
       "      <td>510</td>\n",
       "      <td>Residential</td>\n",
       "      <td>Kanjurmarg (East)</td>\n",
       "      <td>100000.0</td>\n",
       "      <td>1</td>\n",
       "      <td>0</td>\n",
       "      <td>0</td>\n",
       "    </tr>\n",
       "    <tr>\n",
       "      <th>7</th>\n",
       "      <td>mumbai</td>\n",
       "      <td>53000.0</td>\n",
       "      <td>2.0</td>\n",
       "      <td>1510</td>\n",
       "      <td>Residential</td>\n",
       "      <td>Pirojshanagar</td>\n",
       "      <td>300000.0</td>\n",
       "      <td>0</td>\n",
       "      <td>0</td>\n",
       "      <td>1</td>\n",
       "    </tr>\n",
       "    <tr>\n",
       "      <th>8</th>\n",
       "      <td>mumbai</td>\n",
       "      <td>175000.0</td>\n",
       "      <td>3.0</td>\n",
       "      <td>1250</td>\n",
       "      <td>Residential</td>\n",
       "      <td>Bandra (East)</td>\n",
       "      <td>500000.0</td>\n",
       "      <td>1</td>\n",
       "      <td>0</td>\n",
       "      <td>0</td>\n",
       "    </tr>\n",
       "    <tr>\n",
       "      <th>9</th>\n",
       "      <td>mumbai</td>\n",
       "      <td>200000.0</td>\n",
       "      <td>3.0</td>\n",
       "      <td>2000</td>\n",
       "      <td>Residential</td>\n",
       "      <td>Grant Road West</td>\n",
       "      <td>800000.0</td>\n",
       "      <td>0</td>\n",
       "      <td>0</td>\n",
       "      <td>0</td>\n",
       "    </tr>\n",
       "    <tr>\n",
       "      <th>10</th>\n",
       "      <td>mumbai</td>\n",
       "      <td>9500.0</td>\n",
       "      <td>1.0</td>\n",
       "      <td>480</td>\n",
       "      <td>Residential</td>\n",
       "      <td>Sector 10 Kamothe</td>\n",
       "      <td>40000.0</td>\n",
       "      <td>1</td>\n",
       "      <td>0</td>\n",
       "      <td>0</td>\n",
       "    </tr>\n",
       "    <tr>\n",
       "      <th>11</th>\n",
       "      <td>mumbai</td>\n",
       "      <td>17000.0</td>\n",
       "      <td>2.0</td>\n",
       "      <td>1055</td>\n",
       "      <td>Residential</td>\n",
       "      <td>Sector 18 Kamothe</td>\n",
       "      <td>60000.0</td>\n",
       "      <td>0</td>\n",
       "      <td>0</td>\n",
       "      <td>1</td>\n",
       "    </tr>\n",
       "    <tr>\n",
       "      <th>12</th>\n",
       "      <td>mumbai</td>\n",
       "      <td>30000.0</td>\n",
       "      <td>2.0</td>\n",
       "      <td>800</td>\n",
       "      <td>Residential</td>\n",
       "      <td>Nerul</td>\n",
       "      <td>100000.0</td>\n",
       "      <td>0</td>\n",
       "      <td>0</td>\n",
       "      <td>1</td>\n",
       "    </tr>\n",
       "    <tr>\n",
       "      <th>13</th>\n",
       "      <td>mumbai</td>\n",
       "      <td>35000.0</td>\n",
       "      <td>2.0</td>\n",
       "      <td>650</td>\n",
       "      <td>Residential</td>\n",
       "      <td>Sector 19A Nerul</td>\n",
       "      <td>NaN</td>\n",
       "      <td>1</td>\n",
       "      <td>0</td>\n",
       "      <td>0</td>\n",
       "    </tr>\n",
       "    <tr>\n",
       "      <th>14</th>\n",
       "      <td>mumbai</td>\n",
       "      <td>31000.0</td>\n",
       "      <td>2.0</td>\n",
       "      <td>640</td>\n",
       "      <td>Residential</td>\n",
       "      <td>Kandivali (East)</td>\n",
       "      <td>100000.0</td>\n",
       "      <td>1</td>\n",
       "      <td>0</td>\n",
       "      <td>0</td>\n",
       "    </tr>\n",
       "    <tr>\n",
       "      <th>15</th>\n",
       "      <td>mumbai</td>\n",
       "      <td>17000.0</td>\n",
       "      <td>2.0</td>\n",
       "      <td>930</td>\n",
       "      <td>Residential</td>\n",
       "      <td>Sunil Nagar</td>\n",
       "      <td>85000.0</td>\n",
       "      <td>0</td>\n",
       "      <td>0</td>\n",
       "      <td>0</td>\n",
       "    </tr>\n",
       "    <tr>\n",
       "      <th>16</th>\n",
       "      <td>mumbai</td>\n",
       "      <td>35000.0</td>\n",
       "      <td>2.0</td>\n",
       "      <td>675</td>\n",
       "      <td>Residential</td>\n",
       "      <td>Bhandup (West)</td>\n",
       "      <td>NaN</td>\n",
       "      <td>1</td>\n",
       "      <td>0</td>\n",
       "      <td>0</td>\n",
       "    </tr>\n",
       "    <tr>\n",
       "      <th>17</th>\n",
       "      <td>mumbai</td>\n",
       "      <td>52900.0</td>\n",
       "      <td>2.0</td>\n",
       "      <td>1450</td>\n",
       "      <td>Residential</td>\n",
       "      <td>Vikhroli (East)</td>\n",
       "      <td>250000.0</td>\n",
       "      <td>0</td>\n",
       "      <td>0</td>\n",
       "      <td>1</td>\n",
       "    </tr>\n",
       "    <tr>\n",
       "      <th>18</th>\n",
       "      <td>mumbai</td>\n",
       "      <td>14000.0</td>\n",
       "      <td>2.0</td>\n",
       "      <td>1300</td>\n",
       "      <td>Residential</td>\n",
       "      <td>Sector-17 Kamothe</td>\n",
       "      <td>60000.0</td>\n",
       "      <td>0</td>\n",
       "      <td>0</td>\n",
       "      <td>1</td>\n",
       "    </tr>\n",
       "    <tr>\n",
       "      <th>19</th>\n",
       "      <td>mumbai</td>\n",
       "      <td>43000.0</td>\n",
       "      <td>2.0</td>\n",
       "      <td>1000</td>\n",
       "      <td>Residential</td>\n",
       "      <td>Chembur</td>\n",
       "      <td>150000.0</td>\n",
       "      <td>0</td>\n",
       "      <td>0</td>\n",
       "      <td>1</td>\n",
       "    </tr>\n",
       "  </tbody>\n",
       "</table>\n",
       "</div>"
      ],
      "text/plain": [
       "      city  monthly_rant  BHKS  sqft_per_inch Type_of_property  \\\n",
       "0   mumbai       17500.0   1.0            470      Residential   \n",
       "1   mumbai       75000.0   3.0           1800      Residential   \n",
       "2   mumbai       60000.0   2.0            950      Residential   \n",
       "3   mumbai       52000.0   3.0           1300      Residential   \n",
       "4   mumbai       30000.0   1.0            550      Residential   \n",
       "5   mumbai       42000.0   2.0            650      Residential   \n",
       "6   mumbai       27000.0   1.0            510      Residential   \n",
       "7   mumbai       53000.0   2.0           1510      Residential   \n",
       "8   mumbai      175000.0   3.0           1250      Residential   \n",
       "9   mumbai      200000.0   3.0           2000      Residential   \n",
       "10  mumbai        9500.0   1.0            480      Residential   \n",
       "11  mumbai       17000.0   2.0           1055      Residential   \n",
       "12  mumbai       30000.0   2.0            800      Residential   \n",
       "13  mumbai       35000.0   2.0            650      Residential   \n",
       "14  mumbai       31000.0   2.0            640      Residential   \n",
       "15  mumbai       17000.0   2.0            930      Residential   \n",
       "16  mumbai       35000.0   2.0            675      Residential   \n",
       "17  mumbai       52900.0   2.0           1450      Residential   \n",
       "18  mumbai       14000.0   2.0           1300      Residential   \n",
       "19  mumbai       43000.0   2.0           1000      Residential   \n",
       "\n",
       "   location_of_the_property   deposit  Carpet Area  Plot Area  \\\n",
       "0              Kolshet Road   75000.0            1          0   \n",
       "1           Sector 21 Nerul  400000.0            0          0   \n",
       "2                    Wadala  200000.0            0          0   \n",
       "3        Hiranandani Estate  300000.0            1          0   \n",
       "4         Kanjurmarg (East)  150000.0            0          0   \n",
       "5               Lower Parel       NaN            0          0   \n",
       "6         Kanjurmarg (East)  100000.0            1          0   \n",
       "7             Pirojshanagar  300000.0            0          0   \n",
       "8             Bandra (East)  500000.0            1          0   \n",
       "9           Grant Road West  800000.0            0          0   \n",
       "10        Sector 10 Kamothe   40000.0            1          0   \n",
       "11        Sector 18 Kamothe   60000.0            0          0   \n",
       "12                    Nerul  100000.0            0          0   \n",
       "13         Sector 19A Nerul       NaN            1          0   \n",
       "14         Kandivali (East)  100000.0            1          0   \n",
       "15              Sunil Nagar   85000.0            0          0   \n",
       "16           Bhandup (West)       NaN            1          0   \n",
       "17          Vikhroli (East)  250000.0            0          0   \n",
       "18        Sector-17 Kamothe   60000.0            0          0   \n",
       "19                  Chembur  150000.0            0          0   \n",
       "\n",
       "    Super built-up Area  \n",
       "0                     0  \n",
       "1                     1  \n",
       "2                     1  \n",
       "3                     0  \n",
       "4                     0  \n",
       "5                     0  \n",
       "6                     0  \n",
       "7                     1  \n",
       "8                     0  \n",
       "9                     0  \n",
       "10                    0  \n",
       "11                    1  \n",
       "12                    1  \n",
       "13                    0  \n",
       "14                    0  \n",
       "15                    0  \n",
       "16                    0  \n",
       "17                    1  \n",
       "18                    1  \n",
       "19                    1  "
      ]
     },
     "execution_count": 26,
     "metadata": {},
     "output_type": "execute_result"
    }
   ],
   "source": [
    "df.head(20)"
   ]
  },
  {
   "cell_type": "markdown",
   "id": "bf619a1a",
   "metadata": {},
   "source": [
    "## Column Type Of Property"
   ]
  },
  {
   "cell_type": "code",
   "execution_count": 27,
   "id": "4096f6cf",
   "metadata": {},
   "outputs": [
    {
     "data": {
      "text/plain": [
       "array(['Residential', 'Independent', 'Studio', 'Serviced', 'for', 'Farm',\n",
       "       'Floor'], dtype=object)"
      ]
     },
     "execution_count": 27,
     "metadata": {},
     "output_type": "execute_result"
    }
   ],
   "source": [
    "df.Type_of_property.unique()"
   ]
  },
  {
   "cell_type": "code",
   "execution_count": 28,
   "id": "0d382bde",
   "metadata": {},
   "outputs": [],
   "source": [
    "#df['Type_of_property'] = df['Type_of_property'].str.split(\"for\",' ')"
   ]
  },
  {
   "cell_type": "code",
   "execution_count": 29,
   "id": "f971ab7b",
   "metadata": {},
   "outputs": [
    {
     "data": {
      "text/plain": [
       "(165421, 10)"
      ]
     },
     "execution_count": 29,
     "metadata": {},
     "output_type": "execute_result"
    }
   ],
   "source": [
    "df.shape"
   ]
  },
  {
   "cell_type": "code",
   "execution_count": 30,
   "id": "bf9b824b",
   "metadata": {},
   "outputs": [
    {
     "data": {
      "text/plain": [
       "(164783, 10)"
      ]
     },
     "execution_count": 30,
     "metadata": {},
     "output_type": "execute_result"
    }
   ],
   "source": [
    "# Filtering the data (unwanted information)\n",
    "df = df[df.Type_of_property!='for']\n",
    "df.shape"
   ]
  },
  {
   "cell_type": "code",
   "execution_count": 31,
   "id": "6f7e0a96",
   "metadata": {},
   "outputs": [
    {
     "data": {
      "text/plain": [
       "(164383, 10)"
      ]
     },
     "execution_count": 31,
     "metadata": {},
     "output_type": "execute_result"
    }
   ],
   "source": [
    "df = df[df.Type_of_property!='Serviced']\n",
    "df.shape\n"
   ]
  },
  {
   "cell_type": "code",
   "execution_count": 32,
   "id": "18dcb048",
   "metadata": {},
   "outputs": [
    {
     "data": {
      "text/plain": [
       "(164364, 10)"
      ]
     },
     "execution_count": 32,
     "metadata": {},
     "output_type": "execute_result"
    }
   ],
   "source": [
    "df = df[df.Type_of_property!='Floor']\n",
    "df.shape"
   ]
  },
  {
   "cell_type": "code",
   "execution_count": 33,
   "id": "081e9e52",
   "metadata": {},
   "outputs": [
    {
     "data": {
      "text/plain": [
       "array(['Residential', 'Independent', 'Studio', 'Farm'], dtype=object)"
      ]
     },
     "execution_count": 33,
     "metadata": {},
     "output_type": "execute_result"
    }
   ],
   "source": [
    "df.Type_of_property.unique()"
   ]
  },
  {
   "cell_type": "code",
   "execution_count": 34,
   "id": "c5613030",
   "metadata": {
    "scrolled": true
   },
   "outputs": [],
   "source": [
    "pro_type = pd.get_dummies(df['Type_of_property'],drop_first=True)"
   ]
  },
  {
   "cell_type": "code",
   "execution_count": 35,
   "id": "fb3b5af6",
   "metadata": {
    "scrolled": false
   },
   "outputs": [],
   "source": [
    "df = pd.merge(df,pro_type, right_index=True, left_index=True)"
   ]
  },
  {
   "cell_type": "code",
   "execution_count": 36,
   "id": "3206042e",
   "metadata": {},
   "outputs": [],
   "source": [
    "df.drop('Type_of_property',axis=1, inplace=True)"
   ]
  },
  {
   "cell_type": "code",
   "execution_count": 37,
   "id": "02cdfb81",
   "metadata": {},
   "outputs": [
    {
     "data": {
      "text/html": [
       "<div>\n",
       "<style scoped>\n",
       "    .dataframe tbody tr th:only-of-type {\n",
       "        vertical-align: middle;\n",
       "    }\n",
       "\n",
       "    .dataframe tbody tr th {\n",
       "        vertical-align: top;\n",
       "    }\n",
       "\n",
       "    .dataframe thead th {\n",
       "        text-align: right;\n",
       "    }\n",
       "</style>\n",
       "<table border=\"1\" class=\"dataframe\">\n",
       "  <thead>\n",
       "    <tr style=\"text-align: right;\">\n",
       "      <th></th>\n",
       "      <th>city</th>\n",
       "      <th>monthly_rant</th>\n",
       "      <th>BHKS</th>\n",
       "      <th>sqft_per_inch</th>\n",
       "      <th>location_of_the_property</th>\n",
       "      <th>deposit</th>\n",
       "      <th>Carpet Area</th>\n",
       "      <th>Plot Area</th>\n",
       "      <th>Super built-up Area</th>\n",
       "      <th>Independent</th>\n",
       "      <th>Residential</th>\n",
       "      <th>Studio</th>\n",
       "    </tr>\n",
       "  </thead>\n",
       "  <tbody>\n",
       "    <tr>\n",
       "      <th>0</th>\n",
       "      <td>mumbai</td>\n",
       "      <td>17500.0</td>\n",
       "      <td>1.0</td>\n",
       "      <td>470</td>\n",
       "      <td>Kolshet Road</td>\n",
       "      <td>75000.0</td>\n",
       "      <td>1</td>\n",
       "      <td>0</td>\n",
       "      <td>0</td>\n",
       "      <td>0</td>\n",
       "      <td>1</td>\n",
       "      <td>0</td>\n",
       "    </tr>\n",
       "    <tr>\n",
       "      <th>1</th>\n",
       "      <td>mumbai</td>\n",
       "      <td>75000.0</td>\n",
       "      <td>3.0</td>\n",
       "      <td>1800</td>\n",
       "      <td>Sector 21 Nerul</td>\n",
       "      <td>400000.0</td>\n",
       "      <td>0</td>\n",
       "      <td>0</td>\n",
       "      <td>1</td>\n",
       "      <td>0</td>\n",
       "      <td>1</td>\n",
       "      <td>0</td>\n",
       "    </tr>\n",
       "  </tbody>\n",
       "</table>\n",
       "</div>"
      ],
      "text/plain": [
       "     city  monthly_rant  BHKS  sqft_per_inch location_of_the_property  \\\n",
       "0  mumbai       17500.0   1.0            470             Kolshet Road   \n",
       "1  mumbai       75000.0   3.0           1800          Sector 21 Nerul   \n",
       "\n",
       "    deposit  Carpet Area  Plot Area  Super built-up Area  Independent  \\\n",
       "0   75000.0            1          0                    0            0   \n",
       "1  400000.0            0          0                    1            0   \n",
       "\n",
       "   Residential  Studio  \n",
       "0            1       0  \n",
       "1            1       0  "
      ]
     },
     "execution_count": 37,
     "metadata": {},
     "output_type": "execute_result"
    }
   ],
   "source": [
    "df.head(2)"
   ]
  },
  {
   "cell_type": "code",
   "execution_count": 38,
   "id": "44a33466",
   "metadata": {
    "scrolled": true
   },
   "outputs": [
    {
     "data": {
      "text/plain": [
       "city                            0\n",
       "monthly_rant                  219\n",
       "BHKS                           52\n",
       "sqft_per_inch                   0\n",
       "location_of_the_property        1\n",
       "deposit                     18292\n",
       "Carpet Area                     0\n",
       "Plot Area                       0\n",
       "Super built-up Area             0\n",
       "Independent                     0\n",
       "Residential                     0\n",
       "Studio                          0\n",
       "dtype: int64"
      ]
     },
     "execution_count": 38,
     "metadata": {},
     "output_type": "execute_result"
    }
   ],
   "source": [
    "df.isnull().sum()"
   ]
  },
  {
   "cell_type": "code",
   "execution_count": 39,
   "id": "a1d6b888",
   "metadata": {},
   "outputs": [],
   "source": [
    "# Missing values is less than 10% so i droped it\n",
    "df.dropna(inplace=True)"
   ]
  },
  {
   "cell_type": "code",
   "execution_count": 40,
   "id": "0687c574",
   "metadata": {},
   "outputs": [
    {
     "data": {
      "text/plain": [
       "city                        0\n",
       "monthly_rant                0\n",
       "BHKS                        0\n",
       "sqft_per_inch               0\n",
       "location_of_the_property    0\n",
       "deposit                     0\n",
       "Carpet Area                 0\n",
       "Plot Area                   0\n",
       "Super built-up Area         0\n",
       "Independent                 0\n",
       "Residential                 0\n",
       "Studio                      0\n",
       "dtype: int64"
      ]
     },
     "execution_count": 40,
     "metadata": {},
     "output_type": "execute_result"
    }
   ],
   "source": [
    "df.isnull().sum()"
   ]
  },
  {
   "cell_type": "markdown",
   "id": "0004e1e6",
   "metadata": {},
   "source": [
    "## City"
   ]
  },
  {
   "cell_type": "code",
   "execution_count": 41,
   "id": "f6235db9",
   "metadata": {
    "scrolled": true
   },
   "outputs": [
    {
     "data": {
      "text/plain": [
       "array(['mumbai', 'pune', 'chennai', 'bangalore', 'hyderabad', 'Ahmedabad',\n",
       "       'ncr', 'Trivandraum'], dtype=object)"
      ]
     },
     "execution_count": 41,
     "metadata": {},
     "output_type": "execute_result"
    }
   ],
   "source": [
    "df.city.unique()"
   ]
  },
  {
   "cell_type": "code",
   "execution_count": 42,
   "id": "1cb71a45",
   "metadata": {},
   "outputs": [],
   "source": [
    "dum_city = pd.get_dummies(df.city, drop_first=True)"
   ]
  },
  {
   "cell_type": "code",
   "execution_count": 43,
   "id": "0764f9d7",
   "metadata": {},
   "outputs": [],
   "source": [
    "df = pd.merge(df,dum_city, right_index=True, left_index=True)"
   ]
  },
  {
   "cell_type": "code",
   "execution_count": 44,
   "id": "42980d67",
   "metadata": {},
   "outputs": [],
   "source": [
    "df.drop('city', axis=1, inplace=True)"
   ]
  },
  {
   "cell_type": "code",
   "execution_count": 45,
   "id": "1466b41e",
   "metadata": {},
   "outputs": [
    {
     "data": {
      "text/html": [
       "<div>\n",
       "<style scoped>\n",
       "    .dataframe tbody tr th:only-of-type {\n",
       "        vertical-align: middle;\n",
       "    }\n",
       "\n",
       "    .dataframe tbody tr th {\n",
       "        vertical-align: top;\n",
       "    }\n",
       "\n",
       "    .dataframe thead th {\n",
       "        text-align: right;\n",
       "    }\n",
       "</style>\n",
       "<table border=\"1\" class=\"dataframe\">\n",
       "  <thead>\n",
       "    <tr style=\"text-align: right;\">\n",
       "      <th></th>\n",
       "      <th>monthly_rant</th>\n",
       "      <th>BHKS</th>\n",
       "      <th>sqft_per_inch</th>\n",
       "      <th>location_of_the_property</th>\n",
       "      <th>deposit</th>\n",
       "      <th>Carpet Area</th>\n",
       "      <th>Plot Area</th>\n",
       "      <th>Super built-up Area</th>\n",
       "      <th>Independent</th>\n",
       "      <th>Residential</th>\n",
       "      <th>Studio</th>\n",
       "      <th>Trivandraum</th>\n",
       "      <th>bangalore</th>\n",
       "      <th>chennai</th>\n",
       "      <th>hyderabad</th>\n",
       "      <th>mumbai</th>\n",
       "      <th>ncr</th>\n",
       "      <th>pune</th>\n",
       "    </tr>\n",
       "  </thead>\n",
       "  <tbody>\n",
       "    <tr>\n",
       "      <th>0</th>\n",
       "      <td>17500.0</td>\n",
       "      <td>1.0</td>\n",
       "      <td>470</td>\n",
       "      <td>Kolshet Road</td>\n",
       "      <td>75000.0</td>\n",
       "      <td>1</td>\n",
       "      <td>0</td>\n",
       "      <td>0</td>\n",
       "      <td>0</td>\n",
       "      <td>1</td>\n",
       "      <td>0</td>\n",
       "      <td>0</td>\n",
       "      <td>0</td>\n",
       "      <td>0</td>\n",
       "      <td>0</td>\n",
       "      <td>1</td>\n",
       "      <td>0</td>\n",
       "      <td>0</td>\n",
       "    </tr>\n",
       "    <tr>\n",
       "      <th>1</th>\n",
       "      <td>75000.0</td>\n",
       "      <td>3.0</td>\n",
       "      <td>1800</td>\n",
       "      <td>Sector 21 Nerul</td>\n",
       "      <td>400000.0</td>\n",
       "      <td>0</td>\n",
       "      <td>0</td>\n",
       "      <td>1</td>\n",
       "      <td>0</td>\n",
       "      <td>1</td>\n",
       "      <td>0</td>\n",
       "      <td>0</td>\n",
       "      <td>0</td>\n",
       "      <td>0</td>\n",
       "      <td>0</td>\n",
       "      <td>1</td>\n",
       "      <td>0</td>\n",
       "      <td>0</td>\n",
       "    </tr>\n",
       "  </tbody>\n",
       "</table>\n",
       "</div>"
      ],
      "text/plain": [
       "   monthly_rant  BHKS  sqft_per_inch location_of_the_property   deposit  \\\n",
       "0       17500.0   1.0            470             Kolshet Road   75000.0   \n",
       "1       75000.0   3.0           1800          Sector 21 Nerul  400000.0   \n",
       "\n",
       "   Carpet Area  Plot Area  Super built-up Area  Independent  Residential  \\\n",
       "0            1          0                    0            0            1   \n",
       "1            0          0                    1            0            1   \n",
       "\n",
       "   Studio  Trivandraum  bangalore  chennai  hyderabad  mumbai  ncr  pune  \n",
       "0       0            0          0        0          0       1    0     0  \n",
       "1       0            0          0        0          0       1    0     0  "
      ]
     },
     "execution_count": 45,
     "metadata": {},
     "output_type": "execute_result"
    }
   ],
   "source": [
    "df.head(2)"
   ]
  },
  {
   "cell_type": "code",
   "execution_count": null,
   "id": "19629c29",
   "metadata": {},
   "outputs": [],
   "source": []
  },
  {
   "cell_type": "markdown",
   "id": "5685e97f",
   "metadata": {},
   "source": [
    "## Location Of the Property"
   ]
  },
  {
   "cell_type": "code",
   "execution_count": 46,
   "id": "206c37c5",
   "metadata": {},
   "outputs": [
    {
     "data": {
      "text/plain": [
       "12489"
      ]
     },
     "execution_count": 46,
     "metadata": {},
     "output_type": "execute_result"
    }
   ],
   "source": [
    "df.location_of_the_property.nunique()"
   ]
  },
  {
   "cell_type": "code",
   "execution_count": 47,
   "id": "7093dcf6",
   "metadata": {},
   "outputs": [],
   "source": [
    "from sklearn.preprocessing import LabelEncoder\n",
    "le = LabelEncoder()"
   ]
  },
  {
   "cell_type": "code",
   "execution_count": 48,
   "id": "06ca319f",
   "metadata": {},
   "outputs": [
    {
     "data": {
      "text/plain": [
       "LabelEncoder()"
      ]
     },
     "execution_count": 48,
     "metadata": {},
     "output_type": "execute_result"
    }
   ],
   "source": [
    "le.fit(df['location_of_the_property'])"
   ]
  },
  {
   "cell_type": "code",
   "execution_count": 49,
   "id": "6b05ab17",
   "metadata": {},
   "outputs": [],
   "source": [
    "df['location_of_the_property'] = le.transform(df['location_of_the_property'])"
   ]
  },
  {
   "cell_type": "code",
   "execution_count": 50,
   "id": "629170f1",
   "metadata": {},
   "outputs": [
    {
     "data": {
      "text/plain": [
       "monthly_rant                0\n",
       "BHKS                        0\n",
       "sqft_per_inch               0\n",
       "location_of_the_property    0\n",
       "deposit                     0\n",
       "Carpet Area                 0\n",
       "Plot Area                   0\n",
       "Super built-up Area         0\n",
       "Independent                 0\n",
       "Residential                 0\n",
       "Studio                      0\n",
       "Trivandraum                 0\n",
       "bangalore                   0\n",
       "chennai                     0\n",
       "hyderabad                   0\n",
       "mumbai                      0\n",
       "ncr                         0\n",
       "pune                        0\n",
       "dtype: int64"
      ]
     },
     "execution_count": 50,
     "metadata": {},
     "output_type": "execute_result"
    }
   ],
   "source": [
    "df.isna().sum()"
   ]
  },
  {
   "cell_type": "code",
   "execution_count": 51,
   "id": "74ff4036",
   "metadata": {},
   "outputs": [
    {
     "name": "stdout",
     "output_type": "stream",
     "text": [
      "<class 'pandas.core.frame.DataFrame'>\n",
      "Int64Index: 146034 entries, 0 to 165420\n",
      "Data columns (total 18 columns):\n",
      " #   Column                    Non-Null Count   Dtype  \n",
      "---  ------                    --------------   -----  \n",
      " 0   monthly_rant              146034 non-null  float64\n",
      " 1   BHKS                      146034 non-null  float64\n",
      " 2   sqft_per_inch             146034 non-null  int64  \n",
      " 3   location_of_the_property  146034 non-null  int32  \n",
      " 4   deposit                   146034 non-null  float64\n",
      " 5   Carpet Area               146034 non-null  uint8  \n",
      " 6   Plot Area                 146034 non-null  uint8  \n",
      " 7   Super built-up Area       146034 non-null  uint8  \n",
      " 8   Independent               146034 non-null  uint8  \n",
      " 9   Residential               146034 non-null  uint8  \n",
      " 10  Studio                    146034 non-null  uint8  \n",
      " 11  Trivandraum               146034 non-null  uint8  \n",
      " 12  bangalore                 146034 non-null  uint8  \n",
      " 13  chennai                   146034 non-null  uint8  \n",
      " 14  hyderabad                 146034 non-null  uint8  \n",
      " 15  mumbai                    146034 non-null  uint8  \n",
      " 16  ncr                       146034 non-null  uint8  \n",
      " 17  pune                      146034 non-null  uint8  \n",
      "dtypes: float64(3), int32(1), int64(1), uint8(13)\n",
      "memory usage: 12.0 MB\n"
     ]
    }
   ],
   "source": [
    "df.info()"
   ]
  },
  {
   "cell_type": "code",
   "execution_count": 52,
   "id": "dba025e3",
   "metadata": {
    "scrolled": false
   },
   "outputs": [
    {
     "data": {
      "text/html": [
       "<div>\n",
       "<style scoped>\n",
       "    .dataframe tbody tr th:only-of-type {\n",
       "        vertical-align: middle;\n",
       "    }\n",
       "\n",
       "    .dataframe tbody tr th {\n",
       "        vertical-align: top;\n",
       "    }\n",
       "\n",
       "    .dataframe thead th {\n",
       "        text-align: right;\n",
       "    }\n",
       "</style>\n",
       "<table border=\"1\" class=\"dataframe\">\n",
       "  <thead>\n",
       "    <tr style=\"text-align: right;\">\n",
       "      <th></th>\n",
       "      <th>monthly_rant</th>\n",
       "      <th>BHKS</th>\n",
       "      <th>sqft_per_inch</th>\n",
       "      <th>location_of_the_property</th>\n",
       "      <th>deposit</th>\n",
       "      <th>Carpet Area</th>\n",
       "      <th>Plot Area</th>\n",
       "      <th>Super built-up Area</th>\n",
       "      <th>Independent</th>\n",
       "      <th>Residential</th>\n",
       "      <th>Studio</th>\n",
       "      <th>Trivandraum</th>\n",
       "      <th>bangalore</th>\n",
       "      <th>chennai</th>\n",
       "      <th>hyderabad</th>\n",
       "      <th>mumbai</th>\n",
       "      <th>ncr</th>\n",
       "      <th>pune</th>\n",
       "    </tr>\n",
       "  </thead>\n",
       "  <tbody>\n",
       "    <tr>\n",
       "      <th>0</th>\n",
       "      <td>17500.0</td>\n",
       "      <td>1.0</td>\n",
       "      <td>470</td>\n",
       "      <td>4649</td>\n",
       "      <td>75000.0</td>\n",
       "      <td>1</td>\n",
       "      <td>0</td>\n",
       "      <td>0</td>\n",
       "      <td>0</td>\n",
       "      <td>1</td>\n",
       "      <td>0</td>\n",
       "      <td>0</td>\n",
       "      <td>0</td>\n",
       "      <td>0</td>\n",
       "      <td>0</td>\n",
       "      <td>1</td>\n",
       "      <td>0</td>\n",
       "      <td>0</td>\n",
       "    </tr>\n",
       "    <tr>\n",
       "      <th>1</th>\n",
       "      <td>75000.0</td>\n",
       "      <td>3.0</td>\n",
       "      <td>1800</td>\n",
       "      <td>8511</td>\n",
       "      <td>400000.0</td>\n",
       "      <td>0</td>\n",
       "      <td>0</td>\n",
       "      <td>1</td>\n",
       "      <td>0</td>\n",
       "      <td>1</td>\n",
       "      <td>0</td>\n",
       "      <td>0</td>\n",
       "      <td>0</td>\n",
       "      <td>0</td>\n",
       "      <td>0</td>\n",
       "      <td>1</td>\n",
       "      <td>0</td>\n",
       "      <td>0</td>\n",
       "    </tr>\n",
       "  </tbody>\n",
       "</table>\n",
       "</div>"
      ],
      "text/plain": [
       "   monthly_rant  BHKS  sqft_per_inch  location_of_the_property   deposit  \\\n",
       "0       17500.0   1.0            470                      4649   75000.0   \n",
       "1       75000.0   3.0           1800                      8511  400000.0   \n",
       "\n",
       "   Carpet Area  Plot Area  Super built-up Area  Independent  Residential  \\\n",
       "0            1          0                    0            0            1   \n",
       "1            0          0                    1            0            1   \n",
       "\n",
       "   Studio  Trivandraum  bangalore  chennai  hyderabad  mumbai  ncr  pune  \n",
       "0       0            0          0        0          0       1    0     0  \n",
       "1       0            0          0        0          0       1    0     0  "
      ]
     },
     "execution_count": 52,
     "metadata": {},
     "output_type": "execute_result"
    }
   ],
   "source": [
    "df.head(2)"
   ]
  },
  {
   "cell_type": "code",
   "execution_count": 53,
   "id": "5b5a4382",
   "metadata": {},
   "outputs": [
    {
     "data": {
      "text/plain": [
       "(146034, 18)"
      ]
     },
     "execution_count": 53,
     "metadata": {},
     "output_type": "execute_result"
    }
   ],
   "source": [
    "df.shape"
   ]
  },
  {
   "cell_type": "code",
   "execution_count": 54,
   "id": "dc0322ab",
   "metadata": {},
   "outputs": [],
   "source": [
    "#sns.scatterplot(x=df['deposit'],y=range(0,147896))"
   ]
  },
  {
   "cell_type": "markdown",
   "id": "89653eae",
   "metadata": {},
   "source": [
    "## -----------------------------------------------------------------------------------------------------------------------------"
   ]
  },
  {
   "cell_type": "markdown",
   "id": "14e52024",
   "metadata": {},
   "source": [
    "## deposit :- End Of the Distribution"
   ]
  },
  {
   "cell_type": "code",
   "execution_count": 55,
   "id": "3e3b206d",
   "metadata": {
    "scrolled": true
   },
   "outputs": [],
   "source": [
    "#sns.boxplot(df['deposit_end_distribution'])"
   ]
  },
  {
   "cell_type": "code",
   "execution_count": 56,
   "id": "5b0a28ee",
   "metadata": {},
   "outputs": [],
   "source": [
    "#Q1 = df['deposit_end_distribution'].quantile(0.25)\n",
    "#Q3 = df['deposit_end_distribution'].quantile(0.75)\n",
    "#IQR = Q3 - Q1"
   ]
  },
  {
   "cell_type": "code",
   "execution_count": 57,
   "id": "1be8cae4",
   "metadata": {},
   "outputs": [],
   "source": [
    "#((df['deposit_end_distribution'] < (Q1 - 1.5 * IQR)) | (df['deposit_end_distribution'] > (Q3 + 1.5 * IQR))).mean()\n",
    "\n",
    "#mask = (df['deposit_end_distribution'] < (Q1 - 1.5 * IQR)) | (df['deposit_end_distribution'] > (Q3 + 1.5 * IQR))\n",
    "#df[mask] = np.nan"
   ]
  },
  {
   "cell_type": "code",
   "execution_count": 58,
   "id": "742520c4",
   "metadata": {},
   "outputs": [],
   "source": [
    "#sns.boxplot(df['deposit_end_distribution'])"
   ]
  },
  {
   "cell_type": "markdown",
   "id": "3efc7ab3",
   "metadata": {},
   "source": [
    "## deposit (Checking Outliers)"
   ]
  },
  {
   "cell_type": "code",
   "execution_count": 59,
   "id": "92aeff9e",
   "metadata": {},
   "outputs": [
    {
     "name": "stderr",
     "output_type": "stream",
     "text": [
      "C:\\Users\\prash\\anaconda3\\lib\\site-packages\\seaborn\\_decorators.py:36: FutureWarning: Pass the following variable as a keyword arg: x. From version 0.12, the only valid positional argument will be `data`, and passing other arguments without an explicit keyword will result in an error or misinterpretation.\n",
      "  warnings.warn(\n"
     ]
    },
    {
     "data": {
      "text/plain": [
       "<AxesSubplot:xlabel='deposit'>"
      ]
     },
     "execution_count": 59,
     "metadata": {},
     "output_type": "execute_result"
    },
    {
     "data": {
      "image/png": "[encoded data removed]",
      "text/plain": [
       "<Figure size 432x288 with 1 Axes>"
      ]
     },
     "metadata": {
      "needs_background": "light"
     },
     "output_type": "display_data"
    }
   ],
   "source": [
    "sns.boxplot(df['deposit'])"
   ]
  },
  {
   "cell_type": "code",
   "execution_count": 60,
   "id": "d1508f36",
   "metadata": {},
   "outputs": [],
   "source": [
    "Q1 = df['deposit'].quantile(0.25)\n",
    "Q3 = df['deposit'].quantile(0.75)\n",
    "IQR = Q3 - Q1"
   ]
  },
  {
   "cell_type": "code",
   "execution_count": 61,
   "id": "ee66bc3f",
   "metadata": {},
   "outputs": [],
   "source": [
    "((df['deposit'] < (Q1 - 1.5 * IQR)) | (df['deposit'] > (Q3 + 1.5 * IQR))).mean()\n",
    "\n",
    "mask = (df['deposit'] < (Q1 - 1.5 * IQR)) | (df['deposit'] > (Q3 + 1.5 * IQR))\n",
    "df[mask] = np.nan"
   ]
  },
  {
   "cell_type": "code",
   "execution_count": 62,
   "id": "b5f3dfe5",
   "metadata": {
    "scrolled": true
   },
   "outputs": [
    {
     "name": "stderr",
     "output_type": "stream",
     "text": [
      "C:\\Users\\prash\\anaconda3\\lib\\site-packages\\seaborn\\_decorators.py:36: FutureWarning: Pass the following variable as a keyword arg: x. From version 0.12, the only valid positional argument will be `data`, and passing other arguments without an explicit keyword will result in an error or misinterpretation.\n",
      "  warnings.warn(\n"
     ]
    },
    {
     "data": {
      "text/plain": [
       "<AxesSubplot:xlabel='deposit'>"
      ]
     },
     "execution_count": 62,
     "metadata": {},
     "output_type": "execute_result"
    },
    {
     "data": {
      "image/png": "[encoded data removed]",
      "text/plain": [
       "<Figure size 432x288 with 1 Axes>"
      ]
     },
     "metadata": {
      "needs_background": "light"
     },
     "output_type": "display_data"
    }
   ],
   "source": [
    "sns.boxplot(df['deposit'])"
   ]
  },
  {
   "cell_type": "markdown",
   "id": "4de29be7",
   "metadata": {},
   "source": [
    "* We clearly observed in boxplot data is right skewed"
   ]
  },
  {
   "cell_type": "code",
   "execution_count": 63,
   "id": "87f79c02",
   "metadata": {},
   "outputs": [],
   "source": [
    "#from sklearn.preprocessing import MinMaxScaler\n",
    "#mms = MinMaxScaler()"
   ]
  },
  {
   "cell_type": "code",
   "execution_count": 64,
   "id": "7e203b5a",
   "metadata": {},
   "outputs": [],
   "source": [
    "#mms.fit(df[['deposit']])"
   ]
  },
  {
   "cell_type": "code",
   "execution_count": 65,
   "id": "486c0e3a",
   "metadata": {},
   "outputs": [],
   "source": [
    "#df['deposit'] = mms.transform(df[['deposit']])"
   ]
  },
  {
   "cell_type": "code",
   "execution_count": 66,
   "id": "8a817d5f",
   "metadata": {},
   "outputs": [],
   "source": [
    "#df.isnull().mean()"
   ]
  },
  {
   "cell_type": "code",
   "execution_count": 67,
   "id": "8894aa0e",
   "metadata": {},
   "outputs": [],
   "source": [
    "df.dropna(inplace=True)"
   ]
  },
  {
   "cell_type": "code",
   "execution_count": 68,
   "id": "787c6ab2",
   "metadata": {},
   "outputs": [
    {
     "data": {
      "text/plain": [
       "<AxesSubplot:>"
      ]
     },
     "execution_count": 68,
     "metadata": {},
     "output_type": "execute_result"
    },
    {
     "data": {
      "image/png": "[encoded data removed]",
      "text/plain": [
       "<Figure size 432x288 with 1 Axes>"
      ]
     },
     "metadata": {
      "needs_background": "light"
     },
     "output_type": "display_data"
    }
   ],
   "source": [
    "# Checking Distribution\n",
    "df['deposit'].hist()"
   ]
  },
  {
   "cell_type": "code",
   "execution_count": 69,
   "id": "39352399",
   "metadata": {},
   "outputs": [
    {
     "data": {
      "text/plain": [
       "<AxesSubplot:>"
      ]
     },
     "execution_count": 69,
     "metadata": {},
     "output_type": "execute_result"
    },
    {
     "data": {
      "image/png": "[encoded data removed]",
      "text/plain": [
       "<Figure size 432x288 with 1 Axes>"
      ]
     },
     "metadata": {
      "needs_background": "light"
     },
     "output_type": "display_data"
    }
   ],
   "source": [
    "# Features Transformation\n",
    "df['deposit']=df['deposit']**(1/2)\n",
    "df['deposit'].hist()"
   ]
  },
  {
   "cell_type": "code",
   "execution_count": 70,
   "id": "2ae5db3a",
   "metadata": {},
   "outputs": [],
   "source": [
    "#df.drop('deposit_end_distribution', axis=1, inplace=True)"
   ]
  },
  {
   "cell_type": "code",
   "execution_count": 71,
   "id": "7132853a",
   "metadata": {
    "scrolled": false
   },
   "outputs": [
    {
     "data": {
      "text/html": [
       "<div>\n",
       "<style scoped>\n",
       "    .dataframe tbody tr th:only-of-type {\n",
       "        vertical-align: middle;\n",
       "    }\n",
       "\n",
       "    .dataframe tbody tr th {\n",
       "        vertical-align: top;\n",
       "    }\n",
       "\n",
       "    .dataframe thead th {\n",
       "        text-align: right;\n",
       "    }\n",
       "</style>\n",
       "<table border=\"1\" class=\"dataframe\">\n",
       "  <thead>\n",
       "    <tr style=\"text-align: right;\">\n",
       "      <th></th>\n",
       "      <th>monthly_rant</th>\n",
       "      <th>BHKS</th>\n",
       "      <th>sqft_per_inch</th>\n",
       "      <th>location_of_the_property</th>\n",
       "      <th>deposit</th>\n",
       "      <th>Carpet Area</th>\n",
       "      <th>Plot Area</th>\n",
       "      <th>Super built-up Area</th>\n",
       "      <th>Independent</th>\n",
       "      <th>Residential</th>\n",
       "      <th>Studio</th>\n",
       "      <th>Trivandraum</th>\n",
       "      <th>bangalore</th>\n",
       "      <th>chennai</th>\n",
       "      <th>hyderabad</th>\n",
       "      <th>mumbai</th>\n",
       "      <th>ncr</th>\n",
       "      <th>pune</th>\n",
       "    </tr>\n",
       "  </thead>\n",
       "  <tbody>\n",
       "    <tr>\n",
       "      <th>0</th>\n",
       "      <td>17500.0</td>\n",
       "      <td>1.0</td>\n",
       "      <td>470.0</td>\n",
       "      <td>4649.0</td>\n",
       "      <td>273.861279</td>\n",
       "      <td>1.0</td>\n",
       "      <td>0.0</td>\n",
       "      <td>0.0</td>\n",
       "      <td>0.0</td>\n",
       "      <td>1.0</td>\n",
       "      <td>0.0</td>\n",
       "      <td>0.0</td>\n",
       "      <td>0.0</td>\n",
       "      <td>0.0</td>\n",
       "      <td>0.0</td>\n",
       "      <td>1.0</td>\n",
       "      <td>0.0</td>\n",
       "      <td>0.0</td>\n",
       "    </tr>\n",
       "    <tr>\n",
       "      <th>2</th>\n",
       "      <td>60000.0</td>\n",
       "      <td>2.0</td>\n",
       "      <td>950.0</td>\n",
       "      <td>11066.0</td>\n",
       "      <td>447.213595</td>\n",
       "      <td>0.0</td>\n",
       "      <td>0.0</td>\n",
       "      <td>1.0</td>\n",
       "      <td>0.0</td>\n",
       "      <td>1.0</td>\n",
       "      <td>0.0</td>\n",
       "      <td>0.0</td>\n",
       "      <td>0.0</td>\n",
       "      <td>0.0</td>\n",
       "      <td>0.0</td>\n",
       "      <td>1.0</td>\n",
       "      <td>0.0</td>\n",
       "      <td>0.0</td>\n",
       "    </tr>\n",
       "  </tbody>\n",
       "</table>\n",
       "</div>"
      ],
      "text/plain": [
       "   monthly_rant  BHKS  sqft_per_inch  location_of_the_property     deposit  \\\n",
       "0       17500.0   1.0          470.0                    4649.0  273.861279   \n",
       "2       60000.0   2.0          950.0                   11066.0  447.213595   \n",
       "\n",
       "   Carpet Area  Plot Area  Super built-up Area  Independent  Residential  \\\n",
       "0          1.0        0.0                  0.0          0.0          1.0   \n",
       "2          0.0        0.0                  1.0          0.0          1.0   \n",
       "\n",
       "   Studio  Trivandraum  bangalore  chennai  hyderabad  mumbai  ncr  pune  \n",
       "0     0.0          0.0        0.0      0.0        0.0     1.0  0.0   0.0  \n",
       "2     0.0          0.0        0.0      0.0        0.0     1.0  0.0   0.0  "
      ]
     },
     "execution_count": 71,
     "metadata": {},
     "output_type": "execute_result"
    }
   ],
   "source": [
    "df.head(2)"
   ]
  },
  {
   "cell_type": "code",
   "execution_count": 72,
   "id": "a6ae61ee",
   "metadata": {},
   "outputs": [],
   "source": [
    "#mms_l = MinMaxScaler()"
   ]
  },
  {
   "cell_type": "code",
   "execution_count": 73,
   "id": "77969b94",
   "metadata": {},
   "outputs": [],
   "source": [
    "#mms_l.fit(df[['location_of_the_property']])"
   ]
  },
  {
   "cell_type": "code",
   "execution_count": 74,
   "id": "0be22231",
   "metadata": {},
   "outputs": [],
   "source": [
    "#df.location_of_the_property = mms_l.transform(df[['location_of_the_property']])"
   ]
  },
  {
   "cell_type": "code",
   "execution_count": 75,
   "id": "dada3a7f",
   "metadata": {},
   "outputs": [],
   "source": [
    "#df.head(2)"
   ]
  },
  {
   "cell_type": "markdown",
   "id": "d673f1fc",
   "metadata": {},
   "source": [
    "## sqft_per_inch"
   ]
  },
  {
   "cell_type": "code",
   "execution_count": 76,
   "id": "0f8dda55",
   "metadata": {},
   "outputs": [
    {
     "name": "stderr",
     "output_type": "stream",
     "text": [
      "C:\\Users\\prash\\anaconda3\\lib\\site-packages\\seaborn\\_decorators.py:36: FutureWarning: Pass the following variable as a keyword arg: x. From version 0.12, the only valid positional argument will be `data`, and passing other arguments without an explicit keyword will result in an error or misinterpretation.\n",
      "  warnings.warn(\n"
     ]
    },
    {
     "data": {
      "text/plain": [
       "<AxesSubplot:xlabel='sqft_per_inch'>"
      ]
     },
     "execution_count": 76,
     "metadata": {},
     "output_type": "execute_result"
    },
    {
     "data": {
      "image/png": "[encoded data removed]",
      "text/plain": [
       "<Figure size 432x288 with 1 Axes>"
      ]
     },
     "metadata": {
      "needs_background": "light"
     },
     "output_type": "display_data"
    }
   ],
   "source": [
    "# Checking Outliers\n",
    "sns.boxplot(df.sqft_per_inch)"
   ]
  },
  {
   "cell_type": "code",
   "execution_count": 77,
   "id": "356ff950",
   "metadata": {},
   "outputs": [],
   "source": [
    "#mms_sqpi = MinMaxScaler()"
   ]
  },
  {
   "cell_type": "code",
   "execution_count": 78,
   "id": "8e9ebaef",
   "metadata": {},
   "outputs": [],
   "source": [
    "#mms_sqpi.fit(df[['sqft_per_inch']])"
   ]
  },
  {
   "cell_type": "code",
   "execution_count": 79,
   "id": "048db5d4",
   "metadata": {},
   "outputs": [],
   "source": [
    "#df['sqft_per_inch'] = mms_sqpi.transform(df[['sqft_per_inch']])"
   ]
  },
  {
   "cell_type": "code",
   "execution_count": 80,
   "id": "009bb673",
   "metadata": {},
   "outputs": [],
   "source": [
    "Q1 = df['sqft_per_inch'].quantile(0.25)\n",
    "Q3 = df['sqft_per_inch'].quantile(0.75)\n",
    "IQR = Q3 - Q1"
   ]
  },
  {
   "cell_type": "code",
   "execution_count": 81,
   "id": "8135d51e",
   "metadata": {},
   "outputs": [],
   "source": [
    "# Fixing outliers Using Upper and Lower Limit\n",
    "((df['sqft_per_inch'] < (Q1 - 1.5 * IQR)) | (df['sqft_per_inch'] > (Q3 + 1.5 * IQR))).mean()\n",
    "\n",
    "mask = (df['sqft_per_inch'] < (Q1 - 1.5 * IQR)) | (df['sqft_per_inch'] > (Q3 + 1.5 * IQR))\n",
    "df[mask] = np.nan"
   ]
  },
  {
   "cell_type": "code",
   "execution_count": 82,
   "id": "bcee063b",
   "metadata": {},
   "outputs": [
    {
     "name": "stderr",
     "output_type": "stream",
     "text": [
      "C:\\Users\\prash\\anaconda3\\lib\\site-packages\\seaborn\\_decorators.py:36: FutureWarning: Pass the following variable as a keyword arg: x. From version 0.12, the only valid positional argument will be `data`, and passing other arguments without an explicit keyword will result in an error or misinterpretation.\n",
      "  warnings.warn(\n"
     ]
    },
    {
     "data": {
      "text/plain": [
       "<AxesSubplot:xlabel='sqft_per_inch'>"
      ]
     },
     "execution_count": 82,
     "metadata": {},
     "output_type": "execute_result"
    },
    {
     "data": {
      "image/png": "[encoded data removed]",
      "text/plain": [
       "<Figure size 432x288 with 1 Axes>"
      ]
     },
     "metadata": {
      "needs_background": "light"
     },
     "output_type": "display_data"
    }
   ],
   "source": [
    "sns.boxplot(df.sqft_per_inch)"
   ]
  },
  {
   "cell_type": "code",
   "execution_count": 83,
   "id": "d442f320",
   "metadata": {},
   "outputs": [],
   "source": [
    "df.dropna(inplace=True)"
   ]
  },
  {
   "cell_type": "code",
   "execution_count": 84,
   "id": "82d07725",
   "metadata": {},
   "outputs": [
    {
     "data": {
      "text/html": [
       "<div>\n",
       "<style scoped>\n",
       "    .dataframe tbody tr th:only-of-type {\n",
       "        vertical-align: middle;\n",
       "    }\n",
       "\n",
       "    .dataframe tbody tr th {\n",
       "        vertical-align: top;\n",
       "    }\n",
       "\n",
       "    .dataframe thead th {\n",
       "        text-align: right;\n",
       "    }\n",
       "</style>\n",
       "<table border=\"1\" class=\"dataframe\">\n",
       "  <thead>\n",
       "    <tr style=\"text-align: right;\">\n",
       "      <th></th>\n",
       "      <th>monthly_rant</th>\n",
       "      <th>BHKS</th>\n",
       "      <th>sqft_per_inch</th>\n",
       "      <th>location_of_the_property</th>\n",
       "      <th>deposit</th>\n",
       "      <th>Carpet Area</th>\n",
       "      <th>Plot Area</th>\n",
       "      <th>Super built-up Area</th>\n",
       "      <th>Independent</th>\n",
       "      <th>Residential</th>\n",
       "      <th>Studio</th>\n",
       "      <th>Trivandraum</th>\n",
       "      <th>bangalore</th>\n",
       "      <th>chennai</th>\n",
       "      <th>hyderabad</th>\n",
       "      <th>mumbai</th>\n",
       "      <th>ncr</th>\n",
       "      <th>pune</th>\n",
       "    </tr>\n",
       "  </thead>\n",
       "  <tbody>\n",
       "    <tr>\n",
       "      <th>0</th>\n",
       "      <td>17500.0</td>\n",
       "      <td>1.0</td>\n",
       "      <td>470.0</td>\n",
       "      <td>4649.0</td>\n",
       "      <td>273.861279</td>\n",
       "      <td>1.0</td>\n",
       "      <td>0.0</td>\n",
       "      <td>0.0</td>\n",
       "      <td>0.0</td>\n",
       "      <td>1.0</td>\n",
       "      <td>0.0</td>\n",
       "      <td>0.0</td>\n",
       "      <td>0.0</td>\n",
       "      <td>0.0</td>\n",
       "      <td>0.0</td>\n",
       "      <td>1.0</td>\n",
       "      <td>0.0</td>\n",
       "      <td>0.0</td>\n",
       "    </tr>\n",
       "    <tr>\n",
       "      <th>2</th>\n",
       "      <td>60000.0</td>\n",
       "      <td>2.0</td>\n",
       "      <td>950.0</td>\n",
       "      <td>11066.0</td>\n",
       "      <td>447.213595</td>\n",
       "      <td>0.0</td>\n",
       "      <td>0.0</td>\n",
       "      <td>1.0</td>\n",
       "      <td>0.0</td>\n",
       "      <td>1.0</td>\n",
       "      <td>0.0</td>\n",
       "      <td>0.0</td>\n",
       "      <td>0.0</td>\n",
       "      <td>0.0</td>\n",
       "      <td>0.0</td>\n",
       "      <td>1.0</td>\n",
       "      <td>0.0</td>\n",
       "      <td>0.0</td>\n",
       "    </tr>\n",
       "  </tbody>\n",
       "</table>\n",
       "</div>"
      ],
      "text/plain": [
       "   monthly_rant  BHKS  sqft_per_inch  location_of_the_property     deposit  \\\n",
       "0       17500.0   1.0          470.0                    4649.0  273.861279   \n",
       "2       60000.0   2.0          950.0                   11066.0  447.213595   \n",
       "\n",
       "   Carpet Area  Plot Area  Super built-up Area  Independent  Residential  \\\n",
       "0          1.0        0.0                  0.0          0.0          1.0   \n",
       "2          0.0        0.0                  1.0          0.0          1.0   \n",
       "\n",
       "   Studio  Trivandraum  bangalore  chennai  hyderabad  mumbai  ncr  pune  \n",
       "0     0.0          0.0        0.0      0.0        0.0     1.0  0.0   0.0  \n",
       "2     0.0          0.0        0.0      0.0        0.0     1.0  0.0   0.0  "
      ]
     },
     "execution_count": 84,
     "metadata": {},
     "output_type": "execute_result"
    }
   ],
   "source": [
    "df.head(2)"
   ]
  },
  {
   "cell_type": "code",
   "execution_count": 85,
   "id": "12ace763",
   "metadata": {},
   "outputs": [
    {
     "data": {
      "text/plain": [
       "(128174, 18)"
      ]
     },
     "execution_count": 85,
     "metadata": {},
     "output_type": "execute_result"
    }
   ],
   "source": [
    "df.shape"
   ]
  },
  {
   "cell_type": "code",
   "execution_count": 86,
   "id": "8f1e7dc0",
   "metadata": {},
   "outputs": [
    {
     "data": {
      "text/plain": [
       "monthly_rant                136.285328\n",
       "BHKS                          2.734330\n",
       "sqft_per_inch                 0.647451\n",
       "location_of_the_property     -0.125224\n",
       "deposit                       0.432555\n",
       "Carpet Area                   1.112882\n",
       "Plot Area                     3.510014\n",
       "Super built-up Area           0.120117\n",
       "Independent                   0.983884\n",
       "Residential                  -0.875202\n",
       "Studio                        6.822607\n",
       "Trivandraum                  17.425462\n",
       "bangalore                     1.674245\n",
       "chennai                       3.366466\n",
       "hyderabad                     4.079299\n",
       "mumbai                        1.215462\n",
       "ncr                           0.978234\n",
       "pune                          2.119496\n",
       "dtype: float64"
      ]
     },
     "execution_count": 86,
     "metadata": {},
     "output_type": "execute_result"
    }
   ],
   "source": [
    "df.skew()"
   ]
  },
  {
   "cell_type": "code",
   "execution_count": 87,
   "id": "87b83af5",
   "metadata": {},
   "outputs": [],
   "source": [
    "df['monthly_rant'] = np.log(df['monthly_rant']+1)"
   ]
  },
  {
   "cell_type": "code",
   "execution_count": 88,
   "id": "b2bd02cf",
   "metadata": {},
   "outputs": [],
   "source": [
    "df['BHKS'] = np.log(df['BHKS']+1)"
   ]
  },
  {
   "cell_type": "code",
   "execution_count": 89,
   "id": "48d5a8cf",
   "metadata": {},
   "outputs": [
    {
     "data": {
      "text/plain": [
       "(128174, 18)"
      ]
     },
     "execution_count": 89,
     "metadata": {},
     "output_type": "execute_result"
    }
   ],
   "source": [
    "df.shape"
   ]
  },
  {
   "cell_type": "markdown",
   "id": "69ef10d2",
   "metadata": {},
   "source": [
    "## ----------------------------------------------------------Modeling------------------------------------------------------------"
   ]
  },
  {
   "cell_type": "code",
   "execution_count": 90,
   "id": "161c7f50",
   "metadata": {},
   "outputs": [],
   "source": [
    "#Seperating the variable Independent matrix X and dependent Vector y\n",
    "\n",
    "X = df.drop('monthly_rant',axis=1)\n",
    "y = df.monthly_rant"
   ]
  },
  {
   "cell_type": "code",
   "execution_count": 91,
   "id": "8631339f",
   "metadata": {},
   "outputs": [
    {
     "data": {
      "text/html": [
       "<div>\n",
       "<style scoped>\n",
       "    .dataframe tbody tr th:only-of-type {\n",
       "        vertical-align: middle;\n",
       "    }\n",
       "\n",
       "    .dataframe tbody tr th {\n",
       "        vertical-align: top;\n",
       "    }\n",
       "\n",
       "    .dataframe thead th {\n",
       "        text-align: right;\n",
       "    }\n",
       "</style>\n",
       "<table border=\"1\" class=\"dataframe\">\n",
       "  <thead>\n",
       "    <tr style=\"text-align: right;\">\n",
       "      <th></th>\n",
       "      <th>BHKS</th>\n",
       "      <th>sqft_per_inch</th>\n",
       "      <th>location_of_the_property</th>\n",
       "      <th>deposit</th>\n",
       "      <th>Carpet Area</th>\n",
       "      <th>Plot Area</th>\n",
       "      <th>Super built-up Area</th>\n",
       "      <th>Independent</th>\n",
       "      <th>Residential</th>\n",
       "      <th>Studio</th>\n",
       "      <th>Trivandraum</th>\n",
       "      <th>bangalore</th>\n",
       "      <th>chennai</th>\n",
       "      <th>hyderabad</th>\n",
       "      <th>mumbai</th>\n",
       "      <th>ncr</th>\n",
       "      <th>pune</th>\n",
       "    </tr>\n",
       "  </thead>\n",
       "  <tbody>\n",
       "    <tr>\n",
       "      <th>0</th>\n",
       "      <td>0.693147</td>\n",
       "      <td>470.0</td>\n",
       "      <td>4649.0</td>\n",
       "      <td>273.861279</td>\n",
       "      <td>1.0</td>\n",
       "      <td>0.0</td>\n",
       "      <td>0.0</td>\n",
       "      <td>0.0</td>\n",
       "      <td>1.0</td>\n",
       "      <td>0.0</td>\n",
       "      <td>0.0</td>\n",
       "      <td>0.0</td>\n",
       "      <td>0.0</td>\n",
       "      <td>0.0</td>\n",
       "      <td>1.0</td>\n",
       "      <td>0.0</td>\n",
       "      <td>0.0</td>\n",
       "    </tr>\n",
       "    <tr>\n",
       "      <th>2</th>\n",
       "      <td>1.098612</td>\n",
       "      <td>950.0</td>\n",
       "      <td>11066.0</td>\n",
       "      <td>447.213595</td>\n",
       "      <td>0.0</td>\n",
       "      <td>0.0</td>\n",
       "      <td>1.0</td>\n",
       "      <td>0.0</td>\n",
       "      <td>1.0</td>\n",
       "      <td>0.0</td>\n",
       "      <td>0.0</td>\n",
       "      <td>0.0</td>\n",
       "      <td>0.0</td>\n",
       "      <td>0.0</td>\n",
       "      <td>1.0</td>\n",
       "      <td>0.0</td>\n",
       "      <td>0.0</td>\n",
       "    </tr>\n",
       "  </tbody>\n",
       "</table>\n",
       "</div>"
      ],
      "text/plain": [
       "       BHKS  sqft_per_inch  location_of_the_property     deposit  Carpet Area  \\\n",
       "0  0.693147          470.0                    4649.0  273.861279          1.0   \n",
       "2  1.098612          950.0                   11066.0  447.213595          0.0   \n",
       "\n",
       "   Plot Area  Super built-up Area  Independent  Residential  Studio  \\\n",
       "0        0.0                  0.0          0.0          1.0     0.0   \n",
       "2        0.0                  1.0          0.0          1.0     0.0   \n",
       "\n",
       "   Trivandraum  bangalore  chennai  hyderabad  mumbai  ncr  pune  \n",
       "0          0.0        0.0      0.0        0.0     1.0  0.0   0.0  \n",
       "2          0.0        0.0      0.0        0.0     1.0  0.0   0.0  "
      ]
     },
     "execution_count": 91,
     "metadata": {},
     "output_type": "execute_result"
    }
   ],
   "source": [
    "X.head(2)"
   ]
  },
  {
   "cell_type": "code",
   "execution_count": 92,
   "id": "079c19e8",
   "metadata": {},
   "outputs": [
    {
     "data": {
      "text/plain": [
       "0     9.770013\n",
       "2    11.002117\n",
       "Name: monthly_rant, dtype: float64"
      ]
     },
     "execution_count": 92,
     "metadata": {},
     "output_type": "execute_result"
    }
   ],
   "source": [
    "y.head(2)"
   ]
  },
  {
   "cell_type": "code",
   "execution_count": 93,
   "id": "220cf6a3",
   "metadata": {},
   "outputs": [],
   "source": [
    "# Spliting the data into Training set & Test set\n",
    "from sklearn.model_selection import train_test_split\n",
    "X_train, X_test, y_train, y_test = train_test_split(X,y, test_size=0.2, random_state=101)"
   ]
  },
  {
   "cell_type": "code",
   "execution_count": 94,
   "id": "89560f88",
   "metadata": {},
   "outputs": [
    {
     "data": {
      "text/plain": [
       "LinearRegression()"
      ]
     },
     "execution_count": 94,
     "metadata": {},
     "output_type": "execute_result"
    }
   ],
   "source": [
    " #  Linear Regression\n",
    "from sklearn.linear_model import LinearRegression\n",
    "lr_reg = LinearRegression()\n",
    "lr_reg.fit(X_train, y_train)"
   ]
  },
  {
   "cell_type": "code",
   "execution_count": 95,
   "id": "fbaffe72",
   "metadata": {},
   "outputs": [
    {
     "data": {
      "text/plain": [
       "0.7441136081950639"
      ]
     },
     "execution_count": 95,
     "metadata": {},
     "output_type": "execute_result"
    }
   ],
   "source": [
    "y_pred_train = lr_reg.predict(X_train)\n",
    "from sklearn.metrics import r2_score\n",
    "r2_score(y_train, y_pred_train)"
   ]
  },
  {
   "cell_type": "code",
   "execution_count": 96,
   "id": "4f9d34e4",
   "metadata": {},
   "outputs": [
    {
     "data": {
      "text/plain": [
       "0.7331851630095017"
      ]
     },
     "execution_count": 96,
     "metadata": {},
     "output_type": "execute_result"
    }
   ],
   "source": [
    "y_pred_lr_reg = lr_reg.predict(X_test)\n",
    "from sklearn.metrics import r2_score\n",
    "r2_score(y_test, y_pred_lr_reg)"
   ]
  },
  {
   "cell_type": "code",
   "execution_count": 97,
   "id": "20d3e886",
   "metadata": {},
   "outputs": [
    {
     "data": {
      "text/plain": [
       "LinearRegression()"
      ]
     },
     "execution_count": 97,
     "metadata": {},
     "output_type": "execute_result"
    }
   ],
   "source": [
    " #  Polynomial\n",
    "from sklearn.preprocessing import PolynomialFeatures\n",
    "from sklearn.linear_model import LinearRegression\n",
    "poly_reg = PolynomialFeatures(degree = 2)\n",
    "X_poly = poly_reg.fit_transform(X_train)\n",
    "regressor = LinearRegression()\n",
    "regressor.fit(X_poly, y_train)"
   ]
  },
  {
   "cell_type": "code",
   "execution_count": 98,
   "id": "b1c40494",
   "metadata": {},
   "outputs": [
    {
     "data": {
      "text/plain": [
       "0.7802968260199381"
      ]
     },
     "execution_count": 98,
     "metadata": {},
     "output_type": "execute_result"
    }
   ],
   "source": [
    "y_pred_poly = regressor.predict(poly_reg.transform(X_test))\n",
    "from sklearn.metrics import r2_score\n",
    "r2_score(y_test, y_pred_poly)"
   ]
  },
  {
   "cell_type": "code",
   "execution_count": 99,
   "id": "4b12c77b",
   "metadata": {},
   "outputs": [
    {
     "data": {
      "text/plain": [
       "DecisionTreeRegressor(random_state=0)"
      ]
     },
     "execution_count": 99,
     "metadata": {},
     "output_type": "execute_result"
    }
   ],
   "source": [
    "# Decission Tree\n",
    "from sklearn.tree import DecisionTreeRegressor\n",
    "tree = DecisionTreeRegressor(random_state=0)\n",
    "tree.fit(X_train,y_train)    "
   ]
  },
  {
   "cell_type": "code",
   "execution_count": 100,
   "id": "6c5ba6da",
   "metadata": {},
   "outputs": [
    {
     "data": {
      "text/plain": [
       "0.7566404924694394"
      ]
     },
     "execution_count": 100,
     "metadata": {},
     "output_type": "execute_result"
    }
   ],
   "source": [
    "# Get r2_score\n",
    "y_pred_tree = tree.predict(X_test)\n",
    "from sklearn.metrics import r2_score\n",
    "r2_score(y_test, y_pred_tree)"
   ]
  },
  {
   "cell_type": "code",
   "execution_count": 101,
   "id": "aa10351c",
   "metadata": {},
   "outputs": [
    {
     "data": {
      "text/plain": [
       "RandomForestRegressor()"
      ]
     },
     "execution_count": 101,
     "metadata": {},
     "output_type": "execute_result"
    }
   ],
   "source": [
    "# Random Forest\n",
    "from sklearn.ensemble import RandomForestRegressor\n",
    "forest = RandomForestRegressor()\n",
    "forest.fit(X_train,y_train)"
   ]
  },
  {
   "cell_type": "code",
   "execution_count": 102,
   "id": "e8c61786",
   "metadata": {},
   "outputs": [],
   "source": [
    "y_predict=forest.predict(X_test)\n",
    "y_predict_train=forest.predict(X_train)"
   ]
  },
  {
   "cell_type": "code",
   "execution_count": 103,
   "id": "36b352ee",
   "metadata": {},
   "outputs": [
    {
     "name": "stdout",
     "output_type": "stream",
     "text": [
      "Random Forest Train r2_score 0.9782794950366972\n",
      "Random Forest Test r2_score 0.8486130285908373\n"
     ]
    }
   ],
   "source": [
    "print('Random Forest Train r2_score',r2_score(y_train,y_predict_train))\n",
    "print('Random Forest Test r2_score',r2_score(y_test,y_predict))"
   ]
  },
  {
   "cell_type": "markdown",
   "id": "56f04dcf",
   "metadata": {},
   "source": [
    "### Boosting Algorithms"
   ]
  },
  {
   "cell_type": "code",
   "execution_count": 104,
   "id": "0cc47a05",
   "metadata": {},
   "outputs": [
    {
     "data": {
      "text/plain": [
       "AdaBoostRegressor()"
      ]
     },
     "execution_count": 104,
     "metadata": {},
     "output_type": "execute_result"
    }
   ],
   "source": [
    "from sklearn.ensemble import AdaBoostRegressor\n",
    "ada_boost = AdaBoostRegressor()\n",
    "ada_boost.fit(X_train,y_train)"
   ]
  },
  {
   "cell_type": "code",
   "execution_count": 105,
   "id": "f8d031cb",
   "metadata": {},
   "outputs": [
    {
     "name": "stdout",
     "output_type": "stream",
     "text": [
      "Ada Boost Test r2_score 0.28200269749013573\n",
      "Ada Boost Test r2_score 0.29471079379762877\n"
     ]
    }
   ],
   "source": [
    "y_pred_ada_boost = ada_boost.predict(X_test)\n",
    "y_pred_ada_train = ada_boost.predict(X_train)\n",
    "\n",
    "from sklearn.metrics import r2_score\n",
    "print('Ada Boost Test r2_score',r2_score(y_test, y_pred_ada_boost))\n",
    "print('Ada Boost Test r2_score',r2_score(y_train, y_pred_ada_train))"
   ]
  },
  {
   "cell_type": "code",
   "execution_count": 106,
   "id": "60a97f38",
   "metadata": {},
   "outputs": [
    {
     "data": {
      "text/plain": [
       "GradientBoostingRegressor()"
      ]
     },
     "execution_count": 106,
     "metadata": {},
     "output_type": "execute_result"
    }
   ],
   "source": [
    "# Use Gradient Boost \n",
    "from sklearn.ensemble import GradientBoostingRegressor\n",
    "gb_m = GradientBoostingRegressor()\n",
    "gb_m.fit(X_train,y_train)\n",
    "    "
   ]
  },
  {
   "cell_type": "code",
   "execution_count": 107,
   "id": "25c37078",
   "metadata": {},
   "outputs": [
    {
     "name": "stdout",
     "output_type": "stream",
     "text": [
      "Gradirnt Boost Train r2_score 0.8146688719465485\n"
     ]
    }
   ],
   "source": [
    "y_pred_gb_train = gb_m.predict(X_train)\n",
    "from sklearn.metrics import r2_score\n",
    "print('Gradirnt Boost Train r2_score',r2_score(y_train, y_pred_gb_train))"
   ]
  },
  {
   "cell_type": "code",
   "execution_count": 108,
   "id": "5171e6e8",
   "metadata": {},
   "outputs": [
    {
     "name": "stdout",
     "output_type": "stream",
     "text": [
      "Gradirnt Boost Test r2_score 0.8003200013700589\n"
     ]
    }
   ],
   "source": [
    "y_pred_gb = gb_m.predict(X_test)\n",
    "from sklearn.metrics import r2_score\n",
    "print('Gradirnt Boost Test r2_score',r2_score(y_test, y_pred_gb))"
   ]
  },
  {
   "cell_type": "code",
   "execution_count": 109,
   "id": "3b2f9962",
   "metadata": {},
   "outputs": [
    {
     "data": {
      "text/plain": [
       "XGBRegressor(base_score=0.5, booster='gbtree', colsample_bylevel=1,\n",
       "             colsample_bynode=1, colsample_bytree=0.7, gamma=0, gpu_id=-1,\n",
       "             importance_type='gain', interaction_constraints='',\n",
       "             learning_rate=0.1, max_delta_step=0, max_depth=10,\n",
       "             min_child_weight=3, missing=nan, monotone_constraints='()',\n",
       "             n_estimators=400, n_jobs=8, num_parallel_tree=1, random_state=0,\n",
       "             reg_alpha=0, reg_lambda=1, scale_pos_weight=1, subsample=0.7,\n",
       "             tree_method='exact', validate_parameters=1, verbosity=None)"
      ]
     },
     "execution_count": 109,
     "metadata": {},
     "output_type": "execute_result"
    }
   ],
   "source": [
    "\n",
    "from xgboost import XGBRegressor\n",
    "xgbr = XGBRegressor(objective = 'reg:squarederror',\n",
    "                            colsample_bytree= 0.7,\n",
    "                               learning_rate= 0.1,\n",
    "                                 max_depth = 10,\n",
    "                             min_child_weight =  3,\n",
    "                                n_estimators = 400,\n",
    "                                subsample = 0.7)\n",
    "xgbr.fit(X_train,y_train)"
   ]
  },
  {
   "cell_type": "code",
   "execution_count": 110,
   "id": "4495108d",
   "metadata": {},
   "outputs": [
    {
     "name": "stdout",
     "output_type": "stream",
     "text": [
      "Xtream Gradirnt Boost Train r2_score 0.9357935257631552\n",
      "Xtream Gradirnt Boost Test r2_score 0.872245780293962\n"
     ]
    }
   ],
   "source": [
    "y_pred_xgbr_train = xgbr.predict(X_train)\n",
    "y_pred_xgbr = xgbr.predict(X_test)\n",
    "\n",
    "from sklearn.metrics import r2_score\n",
    "\n",
    "print('Xtream Gradirnt Boost Train r2_score',r2_score(y_train, y_pred_xgbr_train))\n",
    "print('Xtream Gradirnt Boost Test r2_score',r2_score(y_test, y_pred_xgbr))"
   ]
  },
  {
   "cell_type": "markdown",
   "id": "fca157db",
   "metadata": {},
   "source": [
    "## Model Tunning"
   ]
  },
  {
   "cell_type": "code",
   "execution_count": 111,
   "id": "db76bc02",
   "metadata": {},
   "outputs": [],
   "source": [
    "#from sklearn.model_selection import GridSearchCV"
   ]
  },
  {
   "cell_type": "code",
   "execution_count": 112,
   "id": "19bc3e59",
   "metadata": {},
   "outputs": [],
   "source": [
    "#param_tuning = {\n",
    " #       'learning_rate': [0.01, 0.1],\n",
    "  #      'max_depth': [3, 5, 7, 10],\n",
    "   #     'min_child_weight': [1, 3, 5],\n",
    "    #    'subsample': [0.5, 0.7],\n",
    "     #   'colsample_bytree': [0.5, 0.7],\n",
    "      #  'n_estimators' : [100, 200, 500],\n",
    "       # 'objective': ['reg:squarederror']\n",
    "   # }"
   ]
  },
  {
   "cell_type": "code",
   "execution_count": 113,
   "id": "7c67ef12",
   "metadata": {},
   "outputs": [],
   "source": [
    "#xgb_model = XGBRegressor()"
   ]
  },
  {
   "cell_type": "code",
   "execution_count": 114,
   "id": "9026db90",
   "metadata": {},
   "outputs": [],
   "source": [
    "#gsearch = GridSearchCV(estimator = xgb_model,\n",
    "#                           param_grid = param_tuning,                        \n",
    " #                          scoring = 'neg_mean_squared_error',  #MSE\n",
    "  #                         cv = 5,\n",
    "   #                        n_jobs = -1,\n",
    "    #                       verbose = 1)"
   ]
  },
  {
   "cell_type": "code",
   "execution_count": 115,
   "id": "4c978a4a",
   "metadata": {},
   "outputs": [],
   "source": [
    "#gsearch.fit(X_train,y_train)"
   ]
  },
  {
   "cell_type": "code",
   "execution_count": 116,
   "id": "a2dd0477",
   "metadata": {},
   "outputs": [],
   "source": [
    "#gsearch.best_params_"
   ]
  },
  {
   "cell_type": "markdown",
   "id": "ce1ba2c2",
   "metadata": {},
   "source": [
    "## Save Model"
   ]
  },
  {
   "cell_type": "code",
   "execution_count": 117,
   "id": "8ab58e8f",
   "metadata": {},
   "outputs": [],
   "source": [
    "import pickle"
   ]
  },
  {
   "cell_type": "code",
   "execution_count": 118,
   "id": "9388ddd2",
   "metadata": {},
   "outputs": [],
   "source": [
    "# Saving the model\n",
    "pickle.dump(xgbr, open('model.pkl','wb'))"
   ]
  },
  {
   "cell_type": "code",
   "execution_count": null,
   "id": "af047749",
   "metadata": {},
   "outputs": [],
   "source": []
  }
 ],
 "metadata": {
  "kernelspec": {
   "display_name": "Python 3",
   "language": "python",
   "name": "python3"
  },
  "language_info": {
   "codemirror_mode": {
    "name": "ipython",
    "version": 3
   },
   "file_extension": ".py",
   "mimetype": "text/x-python",
   "name": "python",
   "nbconvert_exporter": "python",
   "pygments_lexer": "ipython3",
   "version": "3.8.10"
  }
 },
 "nbformat": 4,
 "nbformat_minor": 5
}
